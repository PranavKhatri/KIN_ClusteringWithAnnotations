{
 "cells": [
  {
   "cell_type": "code",
   "execution_count": 1,
   "metadata": {},
   "outputs": [],
   "source": [
    "import pandas as pd\n",
    "import numpy as np\n",
    "import functools as ft\n",
    "import itertools as it\n",
    "import multiprocessing as mp\n",
    "import matplotlib.pyplot as plt\n",
    "from collections import Counter\n",
    "%matplotlib inline"
   ]
  },
  {
   "cell_type": "code",
   "execution_count": 163,
   "metadata": {},
   "outputs": [
    {
     "name": "stdout",
     "output_type": "stream",
     "text": [
      "(19712, 5)\n"
     ]
    },
    {
     "data": {
      "text/html": [
       "<div>\n",
       "<style scoped>\n",
       "    .dataframe tbody tr th:only-of-type {\n",
       "        vertical-align: middle;\n",
       "    }\n",
       "\n",
       "    .dataframe tbody tr th {\n",
       "        vertical-align: top;\n",
       "    }\n",
       "\n",
       "    .dataframe thead th {\n",
       "        text-align: right;\n",
       "    }\n",
       "</style>\n",
       "<table border=\"1\" class=\"dataframe\">\n",
       "  <thead>\n",
       "    <tr style=\"text-align: right;\">\n",
       "      <th></th>\n",
       "      <th>ID</th>\n",
       "      <th>Gene/Product</th>\n",
       "      <th>Name</th>\n",
       "      <th>GO Class Labels</th>\n",
       "      <th>Synonyms</th>\n",
       "    </tr>\n",
       "  </thead>\n",
       "  <tbody>\n",
       "    <tr>\n",
       "      <th>0</th>\n",
       "      <td>UniProtKB:P25788</td>\n",
       "      <td>PSMA3</td>\n",
       "      <td>Proteasome subunit alpha type-3</td>\n",
       "      <td>protein deubiquitination|endopeptidase activit...</td>\n",
       "      <td>HC8|PSC8</td>\n",
       "    </tr>\n",
       "    <tr>\n",
       "      <th>1</th>\n",
       "      <td>UniProtKB:P25787</td>\n",
       "      <td>PSMA2</td>\n",
       "      <td>Proteasome subunit alpha type-2</td>\n",
       "      <td>protein deubiquitination|endopeptidase activit...</td>\n",
       "      <td>HC3|PSC3</td>\n",
       "    </tr>\n",
       "    <tr>\n",
       "      <th>2</th>\n",
       "      <td>UniProtKB:P25786</td>\n",
       "      <td>PSMA1</td>\n",
       "      <td>Proteasome subunit alpha type-1</td>\n",
       "      <td>protein deubiquitination|endopeptidase activit...</td>\n",
       "      <td>HC2|NU|PROS30|PSC2</td>\n",
       "    </tr>\n",
       "  </tbody>\n",
       "</table>\n",
       "</div>"
      ],
      "text/plain": [
       "                 ID Gene/Product                             Name  \\\n",
       "0  UniProtKB:P25788        PSMA3  Proteasome subunit alpha type-3   \n",
       "1  UniProtKB:P25787        PSMA2  Proteasome subunit alpha type-2   \n",
       "2  UniProtKB:P25786        PSMA1  Proteasome subunit alpha type-1   \n",
       "\n",
       "                                     GO Class Labels            Synonyms  \n",
       "0  protein deubiquitination|endopeptidase activit...            HC8|PSC8  \n",
       "1  protein deubiquitination|endopeptidase activit...            HC3|PSC3  \n",
       "2  protein deubiquitination|endopeptidase activit...  HC2|NU|PROS30|PSC2  "
      ]
     },
     "execution_count": 163,
     "metadata": {},
     "output_type": "execute_result"
    }
   ],
   "source": [
    "df = pd.read_csv('../data/go_synonym_data.txt', header=None, sep='\\t', low_memory=False,)\n",
    "df.columns = ['ID', 'Gene/Product', 'Name', 'GO Class Labels', 'Synonyms']\n",
    "print(df.shape)\n",
    "df.head(3)"
   ]
  },
  {
   "cell_type": "markdown",
   "metadata": {},
   "source": [
    "Below is an example of what the labels for the BOW are"
   ]
  },
  {
   "cell_type": "code",
   "execution_count": 18,
   "metadata": {},
   "outputs": [],
   "source": [
    "'''\n",
    "t = pd.read_csv('../reproduced/consensusclusters_spinglass_greaterthan90percent.txt', sep = '\\t')\n",
    "out = []\n",
    "for i in t['cluster'].unique():\n",
    "    out.append(t[t['cluster']==i]['names'].tolist())'''"
   ]
  },
  {
   "cell_type": "code",
   "execution_count": 27,
   "metadata": {},
   "outputs": [],
   "source": [
    "'''with open('clusters_for_mathematica.txt', 'a') as f:\n",
    "    for i in out:\n",
    "        f.write(str(i).replace('[', '').replace(']','').replace(',', '').replace('\\'', '') + '\\n')'''"
   ]
  },
  {
   "cell_type": "code",
   "execution_count": 28,
   "metadata": {},
   "outputs": [
    {
     "name": "stdout",
     "output_type": "stream",
     "text": [
      "19712\n"
     ]
    }
   ],
   "source": [
    "print(len(df['ID'].unique()))"
   ]
  },
  {
   "cell_type": "code",
   "execution_count": 29,
   "metadata": {},
   "outputs": [
    {
     "name": "stdout",
     "output_type": "stream",
     "text": [
      "19659\n"
     ]
    }
   ],
   "source": [
    "print(len(df['Gene/Product'].unique()))"
   ]
  },
  {
   "cell_type": "code",
   "execution_count": 173,
   "metadata": {},
   "outputs": [],
   "source": [
    "def splitter(x):\n",
    "    try:\n",
    "        temp = x.split('|')\n",
    "    except:\n",
    "        temp = []\n",
    "    return temp\n",
    "        "
   ]
  },
  {
   "cell_type": "code",
   "execution_count": 174,
   "metadata": {},
   "outputs": [],
   "source": [
    "df['Synonyms'] = df['Synonyms'].apply(splitter)"
   ]
  },
  {
   "cell_type": "code",
   "execution_count": 44,
   "metadata": {},
   "outputs": [
    {
     "name": "stdout",
     "output_type": "stream",
     "text": [
      "473\n"
     ]
    }
   ],
   "source": [
    "kinase_network_df = pd.read_csv('../data/Full_Kinome_Network_Compiled_no_header.txt', header=None, sep='\\t')\n",
    "known_kinases = list(set(kinase_network_df[0]) | set(kinase_network_df[1]))\n",
    "print(len(known_kinases))"
   ]
  },
  {
   "cell_type": "code",
   "execution_count": 45,
   "metadata": {},
   "outputs": [
    {
     "data": {
      "text/html": [
       "<div>\n",
       "<style scoped>\n",
       "    .dataframe tbody tr th:only-of-type {\n",
       "        vertical-align: middle;\n",
       "    }\n",
       "\n",
       "    .dataframe tbody tr th {\n",
       "        vertical-align: top;\n",
       "    }\n",
       "\n",
       "    .dataframe thead th {\n",
       "        text-align: right;\n",
       "    }\n",
       "</style>\n",
       "<table border=\"1\" class=\"dataframe\">\n",
       "  <thead>\n",
       "    <tr style=\"text-align: right;\">\n",
       "      <th></th>\n",
       "      <th>ID</th>\n",
       "      <th>Gene/Product</th>\n",
       "      <th>Name</th>\n",
       "      <th>GO Class Labels</th>\n",
       "      <th>Synonyms</th>\n",
       "    </tr>\n",
       "  </thead>\n",
       "  <tbody>\n",
       "    <tr>\n",
       "      <th>18381</th>\n",
       "      <td>UniProtKB:P04049</td>\n",
       "      <td>RAF1</td>\n",
       "      <td>RAF proto-oncogene serine/threonine-protein ki...</td>\n",
       "      <td>nuclear speck|Golgi apparatus|face development...</td>\n",
       "      <td>RAF</td>\n",
       "    </tr>\n",
       "  </tbody>\n",
       "</table>\n",
       "</div>"
      ],
      "text/plain": [
       "                     ID Gene/Product  \\\n",
       "18381  UniProtKB:P04049         RAF1   \n",
       "\n",
       "                                                    Name  \\\n",
       "18381  RAF proto-oncogene serine/threonine-protein ki...   \n",
       "\n",
       "                                         GO Class Labels Synonyms  \n",
       "18381  nuclear speck|Golgi apparatus|face development...      RAF  "
      ]
     },
     "execution_count": 45,
     "metadata": {},
     "output_type": "execute_result"
    }
   ],
   "source": [
    "df[df['Gene/Product']=='RAF1']"
   ]
  },
  {
   "cell_type": "code",
   "execution_count": 46,
   "metadata": {},
   "outputs": [
    {
     "data": {
      "text/plain": [
       "ID                 object\n",
       "Gene/Product       object\n",
       "Name               object\n",
       "GO Class Labels    object\n",
       "Synonyms           object\n",
       "dtype: object"
      ]
     },
     "execution_count": 46,
     "metadata": {},
     "output_type": "execute_result"
    }
   ],
   "source": [
    "df.dtypes"
   ]
  },
  {
   "cell_type": "code",
   "execution_count": 47,
   "metadata": {
    "scrolled": false
   },
   "outputs": [
    {
     "name": "stdout",
     "output_type": "stream",
     "text": [
      "23978\n",
      "23297\n"
     ]
    }
   ],
   "source": [
    "print(len(list(filter(lambda x: x != 'nan', it.chain.from_iterable(df['Synonyms'].apply(lambda x: str(x).split('|')))))))\n",
    "print(len(set(filter(lambda x: x != 'nan', it.chain.from_iterable(df['Synonyms'].apply(lambda x: str(x).split('|')))))))"
   ]
  },
  {
   "cell_type": "code",
   "execution_count": 48,
   "metadata": {},
   "outputs": [],
   "source": [
    "set_of_synonyms_present = set(filter(lambda x: x != 'nan', it.chain.from_iterable(df['Synonyms'].apply(lambda x: str(x).split('|')))))\n",
    "set_of_gene_products = set(df['Gene/Product'].values)"
   ]
  },
  {
   "cell_type": "code",
   "execution_count": 49,
   "metadata": {
    "scrolled": false
   },
   "outputs": [],
   "source": [
    "missing = []\n",
    "\n",
    "for k in known_kinases:\n",
    "    if k not in set_of_synonyms_present and k not in set_of_gene_products:\n",
    "        missing.append(k)"
   ]
  },
  {
   "cell_type": "code",
   "execution_count": 50,
   "metadata": {},
   "outputs": [
    {
     "data": {
      "text/plain": [
       "155"
      ]
     },
     "execution_count": 50,
     "metadata": {},
     "output_type": "execute_result"
    }
   ],
   "source": [
    "len(missing)"
   ]
  },
  {
   "cell_type": "code",
   "execution_count": 42,
   "metadata": {},
   "outputs": [
    {
     "data": {
      "text/plain": [
       "False"
      ]
     },
     "execution_count": 42,
     "metadata": {},
     "output_type": "execute_result"
    }
   ],
   "source": [
    "'ACV1C' in set_of_gene_products or 'ACV1C' in set_of_synonyms_present"
   ]
  },
  {
   "cell_type": "code",
   "execution_count": 41,
   "metadata": {},
   "outputs": [
    {
     "data": {
      "text/plain": [
       "True"
      ]
     },
     "execution_count": 41,
     "metadata": {},
     "output_type": "execute_result"
    }
   ],
   "source": [
    "'ACVR1C' in set_of_gene_products # the ACV1C protein is not a synonym"
   ]
  },
  {
   "cell_type": "code",
   "execution_count": 88,
   "metadata": {},
   "outputs": [],
   "source": [
    "alias = pd.read_excel('../data/KINASESmasterlist_w_Aliases.xlsx', header = 0)"
   ]
  },
  {
   "cell_type": "code",
   "execution_count": 101,
   "metadata": {},
   "outputs": [],
   "source": [
    "kin_map = alias.set_index('Uniprot Protein')['MS Gene'].to_dict()"
   ]
  },
  {
   "cell_type": "code",
   "execution_count": 115,
   "metadata": {},
   "outputs": [],
   "source": [
    "go_aliases = set([x for y in ser for x in y if 'UniProt' not in x and 'PTN' not in x])"
   ]
  },
  {
   "cell_type": "code",
   "execution_count": 125,
   "metadata": {},
   "outputs": [],
   "source": [
    "all_aliases = alias.set_index('Uniprot Protein')['Aliases (Conservative)'].dropna().apply(lambda x: x.split(',')).to_dict()"
   ]
  },
  {
   "cell_type": "code",
   "execution_count": 193,
   "metadata": {},
   "outputs": [],
   "source": [
    "go_dat = {}\n",
    "\n",
    "for k in known_kinases:\n",
    "    temp = df[df['Gene/Product']==k]\n",
    "    if(temp.shape[0] == 0):\n",
    "        temp = df[df['Synonyms'].apply(lambda x: k in x)]\n",
    "        if(temp.shape[0] == 0):\n",
    "            temp = df[df['Gene/Product']==kin_map[k]]\n",
    "            if(temp.shape[0] == 0):\n",
    "                temp = df[df['Synonyms'].apply(lambda x: kin_map[k] in x)]\n",
    "                if(temp.shape[0]==0):\n",
    "                    r = all_aliases.get(k)\n",
    "                    if(r is not None):\n",
    "                        for a in r:\n",
    "                            temp = df[df['Gene/Product']==a]\n",
    "                            if(temp.shape[0] ==0):\n",
    "                                temp = df[df['Synonyms'].apply(lambda x: a in x)]\n",
    "                                if(temp.shape[0]==0):\n",
    "                                    pass\n",
    "                                else:\n",
    "                                    go_dat[k] = temp\n",
    "                                    break\n",
    "                            else:\n",
    "                                go_dat[k] = temp\n",
    "                else:\n",
    "                    go_dat[k] = temp\n",
    "            else:\n",
    "                go_dat[k] = temp\n",
    "        else:\n",
    "            go_dat[k] = temp\n",
    "    else:\n",
    "        go_dat[k] = temp"
   ]
  },
  {
   "cell_type": "code",
   "execution_count": 194,
   "metadata": {},
   "outputs": [
    {
     "data": {
      "text/html": [
       "<div>\n",
       "<style scoped>\n",
       "    .dataframe tbody tr th:only-of-type {\n",
       "        vertical-align: middle;\n",
       "    }\n",
       "\n",
       "    .dataframe tbody tr th {\n",
       "        vertical-align: top;\n",
       "    }\n",
       "\n",
       "    .dataframe thead th {\n",
       "        text-align: right;\n",
       "    }\n",
       "</style>\n",
       "<table border=\"1\" class=\"dataframe\">\n",
       "  <thead>\n",
       "    <tr style=\"text-align: right;\">\n",
       "      <th></th>\n",
       "      <th>ID</th>\n",
       "      <th>Gene/Product</th>\n",
       "      <th>Name</th>\n",
       "      <th>GO Class Labels</th>\n",
       "      <th>Synonyms</th>\n",
       "    </tr>\n",
       "  </thead>\n",
       "  <tbody>\n",
       "    <tr>\n",
       "      <th>17878</th>\n",
       "      <td>UniProtKB:P54762</td>\n",
       "      <td>EPHB1</td>\n",
       "      <td>Ephrin type-B receptor 1</td>\n",
       "      <td>peptidyl-tyrosine phosphorylation|axon guidanc...</td>\n",
       "      <td>[ELK, EPHT2, HEK6, NET]</td>\n",
       "    </tr>\n",
       "  </tbody>\n",
       "</table>\n",
       "</div>"
      ],
      "text/plain": [
       "                     ID Gene/Product                      Name  \\\n",
       "17878  UniProtKB:P54762        EPHB1  Ephrin type-B receptor 1   \n",
       "\n",
       "                                         GO Class Labels  \\\n",
       "17878  peptidyl-tyrosine phosphorylation|axon guidanc...   \n",
       "\n",
       "                      Synonyms  \n",
       "17878  [ELK, EPHT2, HEK6, NET]  "
      ]
     },
     "execution_count": 194,
     "metadata": {},
     "output_type": "execute_result"
    }
   ],
   "source": [
    "go_dat[list(go_dat.keys())[0]]"
   ]
  },
  {
   "cell_type": "code",
   "execution_count": 195,
   "metadata": {},
   "outputs": [],
   "source": [
    "for x in go_dat.keys():\n",
    "    try:\n",
    "        go_dat[x]['GO Class Labels'].values[0]\n",
    "    except:\n",
    "        print(x)"
   ]
  },
  {
   "cell_type": "code",
   "execution_count": 196,
   "metadata": {},
   "outputs": [
    {
     "data": {
      "text/plain": [
       "'peptidyl-tyrosine phosphorylation|axon guidance|central nervous system projection neuron axonogenesis|protein autophosphorylation|neurogenesis|optic nerve morphogenesis|protein-containing complex binding|cell chemotaxis|dendrite|cytosol|glutamatergic synapse|positive regulation of synapse assembly|axon|receptor complex|negative regulation of satellite cell differentiation|plasma membrane|dendritic spine development|negative regulation of skeletal muscle satellite cell proliferation|transmembrane-ephrin receptor activity|dendritic spine morphogenesis|early endosome membrane|protein binding|ephrin receptor signaling pathway|establishment of cell polarity|filopodium tip|modulation of chemical synaptic transmission|cell-substrate adhesion|detection of temperature stimulus involved in sensory perception of pain|neural precursor cell proliferation|axon guidance receptor activity|extracellular region|neuron projection|immunological synapse formation|ATP binding|integral component of plasma membrane|protein tyrosine kinase activity|extracellular exosome|negative regulation of signal transduction|angiogenesis|skeletal muscle satellite cell activation|transmembrane receptor protein tyrosine kinase activity|retinal ganglion cell axon guidance|endoplasmic reticulum|regulation of neuron death|regulation of JNK cascade|regulation of ERK1 and ERK2 cascade|camera-type eye morphogenesis|transmembrane signaling receptor activity|cytoplasm|negative regulation of apoptotic process|membrane raft|positive regulation of ERK1 and ERK2 cascade|cell differentiation'"
      ]
     },
     "execution_count": 196,
     "metadata": {},
     "output_type": "execute_result"
    }
   ],
   "source": [
    "go_dat[list(go_dat.keys())[0]]['GO Class Labels'].values[0]"
   ]
  },
  {
   "cell_type": "code",
   "execution_count": 197,
   "metadata": {},
   "outputs": [
    {
     "name": "stdout",
     "output_type": "stream",
     "text": [
      "P4K2B\n"
     ]
    }
   ],
   "source": [
    "# find any kinases where multiple gene/product IDs were returned\n",
    "for x in go_dat.keys():\n",
    "    if(go_dat[x].shape[0] > 1):\n",
    "        print(x)"
   ]
  },
  {
   "cell_type": "code",
   "execution_count": 208,
   "metadata": {},
   "outputs": [
    {
     "data": {
      "text/plain": [
       "'phosphatidylinositol biosynthetic process|endosome|phosphorylation|1-phosphatidylinositol 4-kinase activity|phosphatidylinositol phosphorylation|kinase activity|plasma membrane|Golgi organization|endosome organization|membrane|cytosol|ATP binding|trans-Golgi networktrans-Golgi network|endosome|endosome organization|Golgi organization|phosphatidylinositol phosphorylation|1-phosphatidylinositol 4-kinase activity|phosphorylation|kinase activity|plasma membrane'"
      ]
     },
     "execution_count": 208,
     "metadata": {},
     "output_type": "execute_result"
    }
   ],
   "source": [
    "go_dat['P4K2B'].groupby('Gene/Product').apply(sum)['GO Class Labels'][0]"
   ]
  },
  {
   "cell_type": "code",
   "execution_count": 217,
   "metadata": {},
   "outputs": [
    {
     "data": {
      "text/plain": [
       "'phosphatidylinositol biosynthetic process|endosome|phosphorylation|1-phosphatidylinositol 4-kinase activity|phosphatidylinositol phosphorylation|kinase activity|plasma membrane|Golgi organization|endosome organization|membrane|cytosol|ATP binding|trans-Golgi network'"
      ]
     },
     "execution_count": 217,
     "metadata": {},
     "output_type": "execute_result"
    }
   ],
   "source": [
    "go_dat['P4K2B'].iloc[0]['GO Class Labels']"
   ]
  },
  {
   "cell_type": "code",
   "execution_count": 219,
   "metadata": {},
   "outputs": [],
   "source": [
    "temp = go_dat['P4K2B'].iloc[0]\n",
    "temp['GO Class Labels']='|'.join(list(set(go_dat['P4K2B']['GO Class Labels'].iloc[0].split('|')) | set(go_dat['P4K2B']['GO Class Labels'].iloc[1].split('|'))))\n",
    "go_dat['P4K2B'] = temp\n",
    "#print(np.array(temp['GO Class Labels']))#.values)"
   ]
  },
  {
   "cell_type": "code",
   "execution_count": 228,
   "metadata": {},
   "outputs": [],
   "source": [
    "def helper(x):\n",
    "    try:\n",
    "        temp = go_dat[x]['GO Class Labels'].values[0].split('|')\n",
    "    except:\n",
    "        temp = go_dat[x]['GO Class Labels'].split('|')\n",
    "    return temp"
   ]
  },
  {
   "cell_type": "code",
   "execution_count": 229,
   "metadata": {},
   "outputs": [],
   "source": [
    "just_labels = {x:helper(x) for x in go_dat.keys()}"
   ]
  },
  {
   "cell_type": "code",
   "execution_count": 231,
   "metadata": {},
   "outputs": [],
   "source": [
    "agg_labels = [x for y in labeled_kinases.values for x in y]"
   ]
  },
  {
   "cell_type": "code",
   "execution_count": 232,
   "metadata": {},
   "outputs": [],
   "source": [
    "from collections import Counter\n",
    "\n",
    "c = Counter(agg_labels)"
   ]
  },
  {
   "cell_type": "code",
   "execution_count": 233,
   "metadata": {},
   "outputs": [
    {
     "data": {
      "text/plain": [
       "[('ATP binding', 460),\n",
       " ('protein binding', 402),\n",
       " ('cytoplasm', 306),\n",
       " ('protein phosphorylation', 299),\n",
       " ('protein serine/threonine kinase activity', 290),\n",
       " ('cytosol', 278),\n",
       " ('nucleus', 229),\n",
       " ('plasma membrane', 177),\n",
       " ('protein kinase activity', 156),\n",
       " ('protein autophosphorylation', 148),\n",
       " ('nucleoplasm', 140),\n",
       " ('intracellular signal transduction', 133),\n",
       " ('peptidyl-serine phosphorylation', 113),\n",
       " ('signal transduction', 108),\n",
       " ('peptidyl-tyrosine phosphorylation', 97),\n",
       " ('metal ion binding', 97),\n",
       " ('negative regulation of apoptotic process', 95),\n",
       " ('protein tyrosine kinase activity', 80),\n",
       " ('cell differentiation', 80),\n",
       " ('identical protein binding', 73),\n",
       " ('membrane', 72),\n",
       " ('MAPK cascade', 70),\n",
       " ('receptor complex', 68),\n",
       " ('integral component of plasma membrane', 68),\n",
       " ('positive regulation of ERK1 and ERK2 cascade', 65),\n",
       " ('magnesium ion binding', 61),\n",
       " ('kinase activity', 58),\n",
       " ('extracellular exosome', 57),\n",
       " ('apoptotic process', 57),\n",
       " ('negative regulation of signal transduction', 56),\n",
       " ('transmembrane receptor protein tyrosine kinase activity', 53),\n",
       " ('transmembrane signaling receptor activity', 53),\n",
       " ('protein kinase binding', 53),\n",
       " ('peptidyl-threonine phosphorylation', 52),\n",
       " ('activation of protein kinase activity', 50),\n",
       " ('protein homodimerization activity', 49),\n",
       " ('mitochondrion', 48),\n",
       " ('positive regulation of cell proliferation', 46),\n",
       " ('perinuclear region of cytoplasm', 46),\n",
       " ('signal transduction by protein phosphorylation', 42),\n",
       " ('positive regulation of transcription by RNA polymerase II', 42),\n",
       " ('stress-activated protein kinase signaling cascade', 41),\n",
       " ('Golgi apparatus', 39),\n",
       " ('non-membrane spanning protein tyrosine kinase activity', 39),\n",
       " ('cell proliferation', 38),\n",
       " ('activation of MAPK activity', 35),\n",
       " ('dendrite', 33),\n",
       " ('peptidyl-tyrosine autophosphorylation', 33),\n",
       " ('cell cycle', 32),\n",
       " ('transcription, DNA-templated', 32)]"
      ]
     },
     "execution_count": 233,
     "metadata": {},
     "output_type": "execute_result"
    }
   ],
   "source": [
    "c.most_common(n=50)"
   ]
  },
  {
   "cell_type": "code",
   "execution_count": 234,
   "metadata": {},
   "outputs": [],
   "source": [
    "stopwords = ['ATP binding','protein binding', 'protein phosphorylation','protein serine/threonine kinase activity']"
   ]
  },
  {
   "cell_type": "code",
   "execution_count": 235,
   "metadata": {},
   "outputs": [],
   "source": [
    "def stophelper(x):\n",
    "    try:\n",
    "        temp = go_dat[x]['GO Class Labels'].values[0].split('|')\n",
    "    except:\n",
    "        temp = go_dat[x]['GO Class Labels'].split('|')\n",
    "    return list(filter(lambda x: x not in stopwords, temp))"
   ]
  },
  {
   "cell_type": "code",
   "execution_count": 236,
   "metadata": {},
   "outputs": [],
   "source": [
    "kinase_labels = {x:stophelper(x) for x in go_dat.keys()}\n",
    "labeled_kinases = pd.Series(kinase_labels)"
   ]
  },
  {
   "cell_type": "code",
   "execution_count": 238,
   "metadata": {},
   "outputs": [],
   "source": [
    "labeled_kinases.to_csv('kinase_go_annotations.csv')"
   ]
  }
 ],
 "metadata": {
  "kernelspec": {
   "display_name": "Python [conda env:anaconda3]",
   "language": "python",
   "name": "conda-env-anaconda3-py"
  },
  "language_info": {
   "codemirror_mode": {
    "name": "ipython",
    "version": 3
   },
   "file_extension": ".py",
   "mimetype": "text/x-python",
   "name": "python",
   "nbconvert_exporter": "python",
   "pygments_lexer": "ipython3",
   "version": "3.6.5"
  }
 },
 "nbformat": 4,
 "nbformat_minor": 2
}
