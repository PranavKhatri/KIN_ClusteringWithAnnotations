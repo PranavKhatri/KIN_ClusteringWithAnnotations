{
 "cells": [
  {
   "cell_type": "code",
   "execution_count": 1,
   "metadata": {},
   "outputs": [],
   "source": [
    "import pandas as pd\n",
    "import numpy as np\n",
    "import functools as ft\n",
    "import itertools as it\n",
    "import multiprocessing as mp\n",
    "import scipy.sparse as sp\n",
    "from go_learning_helpers import *\n",
    "import itertools\n",
    "import matplotlib.pyplot as plt\n",
    "from gensim import corpora\n",
    "from collections import defaultdict\n",
    "from gensim.models import TfidfModel\n",
    "from collections import Counter\n",
    "\n",
    "%matplotlib notebook"
   ]
  },
  {
   "cell_type": "markdown",
   "metadata": {},
   "source": [
    "Let's generate a few go_annotation datasets. \n",
    "\n",
    "We'll use the original annotations (post-stopwords) binarized, a single-occurence-filtered-out annotations binarized, and a single-occurence-filtered-out tfidf model."
   ]
  },
  {
   "cell_type": "code",
   "execution_count": 2,
   "metadata": {},
   "outputs": [],
   "source": [
    "go_file = 'kinase_go_annotations.csv'\n",
    "go_dir = './'\n",
    "\n",
    "# get the go annotations\n",
    "go_annotations = get_go_annotations_series(go_dir+go_file)\n",
    "\n",
    "# filter out any empty kinases\n",
    "go_annotations = go_annotations[map(lambda x: len(x) > 0, [x for x in go_annotations])]\n",
    "\n",
    "# generate binarized go_annotations\n",
    "go_lab_binner, bin_go_annotations = convert_go_annotations_to_one_hot(go_annotations,\n",
    "                                                   return_binarizer= True)\n",
    "\n",
    "# create a frequency chart for every label in the go_annotations \n",
    "# this allows us to screen out labels with only one occurence (to help reduce noise)\n",
    "frequency = defaultdict(int)\n",
    "for doc in go_annotations:\n",
    "    for word in doc:\n",
    "        frequency[word] += 1\n",
    "texts = [[word for word in doc if frequency[word] > 1]\n",
    "         for doc in go_annotations]\n",
    "\n",
    "# generate binarized go_annotations for the intermediate, filtered go_annotations\n",
    "filter_go_annotations = pd.Series(texts)\n",
    "filter_go_annotations.index = go_annotations.index\n",
    "filter_go_annotations.name = go_annotations.name\n",
    "\n",
    "# filter out any empty filter_kinases\n",
    "filter_go_annotations = filter_go_annotations[map(lambda x: len(x) > 0, [x for x in filter_go_annotations])]\n",
    "\n",
    "freq_go_lab_binner, freq_go_annotations = convert_go_annotations_to_one_hot(filter_go_annotations,\n",
    "                                                   return_binarizer= True)\n",
    "        \n",
    "# create a corpus and dictionary (reference) objects for a tfidf model for the go_annotations\n",
    "dictionary = corpora.Dictionary(texts)\n",
    "corpus = [dictionary.doc2bow(doc) for doc in texts]\n",
    "\n",
    "# create a tfidf series for the go_annotations\n",
    "tfidf = TfidfModel(corpus)\n",
    "corpus_tfidf = tfidf[corpus]\n",
    "\n",
    "# we have to parse gensim's sparse format back into pd.Series format\n",
    "hold = []\n",
    "rej = []\n",
    "for i in range(len(corpus_tfidf)):\n",
    "    if(len(corpus_tfidf[i]) > 1):\n",
    "        a, b = map(np.asarray, zip(*corpus_tfidf[i]))\n",
    "        row = np.repeat(0, len(a))\n",
    "        hold += [sp.csc_matrix((b, (row, a)), shape=(1,len(dictionary)))]\n",
    "    else:\n",
    "        rej += [go_annotations.index[i]]\n",
    "    \n",
    "\n",
    "tfidf_go_annotations = pd.Series([x for x in sp.vstack(hold).toarray()])\n",
    "tfidf_go_annotations.index = [x for x in go_annotations.index.tolist() if x not in rej]\n",
    "tfidf_go_annotations.name = go_annotations.name\n",
    "\n",
    "# create a dictionary with our datasets\n",
    "go_data_dict = {'go':bin_go_annotations,'freq':freq_go_annotations,'tfidf':tfidf_go_annotations }"
   ]
  },
  {
   "cell_type": "markdown",
   "metadata": {},
   "source": [
    "Now, we need to get our cluster data and make a few DataFrames with the clusters and go_annotations attached"
   ]
  },
  {
   "cell_type": "code",
   "execution_count": 7,
   "metadata": {},
   "outputs": [
    {
     "name": "stdout",
     "output_type": "stream",
     "text": [
      "Dropped  0 kinases due to zero length post-processing\n",
      "Dropped  1 kinases due to zero length post-processing\n",
      "Dropped  1 kinases due to zero length post-processing\n",
      "Dropped  0 kinases due to zero length post-processing\n",
      "Dropped  1 kinases due to zero length post-processing\n",
      "Dropped  1 kinases due to zero length post-processing\n",
      "Dropped  0 kinases due to zero length post-processing\n",
      "Dropped  1 kinases due to zero length post-processing\n",
      "Dropped  1 kinases due to zero length post-processing\n"
     ]
    }
   ],
   "source": [
    "c_spinglass_file = 'consensusclusters_spinglass_greaterthan90percent.txt'\n",
    "cluster_dir = '../reproduced/'\n",
    "\n",
    "c_spinglass_data_dict = {key:add_cluster_labels(cluster_dir+c_spinglass_file,\n",
    "                                  val) for key, val in go_data_dict.items()}\n",
    "\n",
    "fast_greedy_file = 'fastgreedy_clusters.txt'\n",
    "\n",
    "fast_greedy_data_dict = {key:add_cluster_labels(cluster_dir+fast_greedy_file,\n",
    "                                  val) for key, val in go_data_dict.items()}\n",
    "\n",
    "eigen_file = 'consensusclusters_leadingeigenvector_greaterthan90percent.txt'\n",
    "\n",
    "eigen_data_dict = {key:add_cluster_labels(cluster_dir+eigen_file,\n",
    "                                  val) for key, val in go_data_dict.items()}"
   ]
  },
  {
   "cell_type": "markdown",
   "metadata": {},
   "source": [
    "Now, let's import a few linear classifiers"
   ]
  },
  {
   "cell_type": "code",
   "execution_count": 4,
   "metadata": {},
   "outputs": [],
   "source": [
    "from sklearn.svm import SVC\n",
    "from sklearn.naive_bayes import GaussianNB as GNB\n",
    "from sklearn.naive_bayes import ComplementNB as CNB\n",
    "\n",
    "svm = SVC(kernel='linear')\n",
    "nb = GNB()\n",
    "cnb = CNB()\n",
    "\n",
    "classifiers = [svm, nb, cnb]"
   ]
  },
  {
   "cell_type": "markdown",
   "metadata": {},
   "source": [
    "And get the accuracy and MCC scores for our datasets"
   ]
  },
  {
   "cell_type": "code",
   "execution_count": 8,
   "metadata": {},
   "outputs": [],
   "source": [
    "validation_kwargs = {'n_run':20, 'metrics':['accuracy', 'matthews'], 'parallel':3, 'test_size':0.3}\n",
    "c_spinglass_results = {key+str(clf.__class__).split('.')[-1][0:-2]:validate_learnability(dat_df=val, clf=clf, **validation_kwargs) for key, val in c_spinglass_data_dict.items() for clf in classifiers}\n",
    "fast_greedy_results = {key+str(clf.__class__).split('.')[-1][0:-2]:validate_learnability(dat_df=val, clf=clf, **validation_kwargs) for key, val in fast_greedy_data_dict.items() for clf in classifiers}\n",
    "eigen_results = {key+str(clf.__class__).split('.')[-1][0:-2]:validate_learnability(dat_df=val, clf=clf, **validation_kwargs) for key, val in eigen_data_dict.items() for clf in classifiers}"
   ]
  },
  {
   "cell_type": "code",
   "execution_count": 26,
   "metadata": {},
   "outputs": [],
   "source": [
    "mean_spinglass_results = {key:np.mean(np.vstack(map(np.array, c_spinglass_results[key])), axis=0) for key in c_spinglass_results.keys()}\n",
    "mean_fast_greedy_results = {key:np.mean(np.vstack(map(np.array, fast_greedy_results[key])), axis=0) for key in fast_greedy_results.keys()}\n",
    "mean_eigen_results = {key:np.mean(np.vstack(map(np.array, eigen_results[key])), axis=0) for key in eigen_results.keys()}\n"
   ]
  },
  {
   "cell_type": "code",
   "execution_count": 28,
   "metadata": {},
   "outputs": [
    {
     "data": {
      "text/plain": [
       "{'goSVC': array([0.49894366, 0.40723249]),\n",
       " 'goGaussianNB': array([0.48838028, 0.40591655]),\n",
       " 'goComplementNB': array([0.54894366, 0.48166935]),\n",
       " 'freqSVC': array([0.49260563, 0.40902799]),\n",
       " 'freqGaussianNB': array([0.48978873, 0.40686191]),\n",
       " 'freqComplementNB': array([0.56232394, 0.49538121]),\n",
       " 'tfidfSVC': array([0.5028169 , 0.42523996]),\n",
       " 'tfidfGaussianNB': array([0.49471831, 0.41180272]),\n",
       " 'tfidfComplementNB': array([0.54683099, 0.47972294])}"
      ]
     },
     "execution_count": 28,
     "metadata": {},
     "output_type": "execute_result"
    }
   ],
   "source": [
    "mean_spinglass_results"
   ]
  },
  {
   "cell_type": "code",
   "execution_count": 29,
   "metadata": {},
   "outputs": [
    {
     "data": {
      "text/plain": [
       "{'goSVC': array([0.56866197, 0.44165752]),\n",
       " 'goGaussianNB': array([0.54401408, 0.43183396]),\n",
       " 'goComplementNB': array([0.59647887, 0.4990575 ]),\n",
       " 'freqSVC': array([0.60140845, 0.48933872]),\n",
       " 'freqGaussianNB': array([0.57007042, 0.45947007]),\n",
       " 'freqComplementNB': array([0.60633803, 0.50775761]),\n",
       " 'tfidfSVC': array([0.59823944, 0.48666786]),\n",
       " 'tfidfGaussianNB': array([0.56408451, 0.44697864]),\n",
       " 'tfidfComplementNB': array([0.61443662, 0.5178592 ])}"
      ]
     },
     "execution_count": 29,
     "metadata": {},
     "output_type": "execute_result"
    }
   ],
   "source": [
    "mean_fast_greedy_results"
   ]
  },
  {
   "cell_type": "code",
   "execution_count": 30,
   "metadata": {},
   "outputs": [
    {
     "data": {
      "text/plain": [
       "{'goSVC': array([0.67852113, 0.18676585]),\n",
       " 'goGaussianNB': array([0.61901408, 0.11293601]),\n",
       " 'goComplementNB': array([0.57852113, 0.15808657]),\n",
       " 'freqSVC': array([0.68309859, 0.2042195 ]),\n",
       " 'freqGaussianNB': array([0.63626761, 0.11418989]),\n",
       " 'freqComplementNB': array([0.58521127, 0.18843066]),\n",
       " 'tfidfSVC': array([0.72147887, 0.23462515]),\n",
       " 'tfidfGaussianNB': array([0.63732394, 0.11943572]),\n",
       " 'tfidfComplementNB': array([0.58978873, 0.17730761])}"
      ]
     },
     "execution_count": 30,
     "metadata": {},
     "output_type": "execute_result"
    }
   ],
   "source": [
    "mean_eigen_results"
   ]
  },
  {
   "cell_type": "markdown",
   "metadata": {},
   "source": [
    "We can see that:\n",
    "\n",
    "> 1. Leading Eigenvalues does not produce valid clusterings as while accuracy is high, MCC is relatively poor\n",
    "> 2. Fast Greedy appears to have the best learnability, but we should remeber that Consensus Spinglass has many more classes\n",
    "> 3. Filtering/TFIDF does not negatively impact the learnability, so we can ignore the rare labels in our analysis\n"
   ]
  },
  {
   "cell_type": "code",
   "execution_count": 35,
   "metadata": {},
   "outputs": [],
   "source": [
    "c_spinglass_X, __, c_spinglass_y, __ = get_tts(dat=c_spinglass_data_dict['freq'],test_size=0)"
   ]
  },
  {
   "cell_type": "code",
   "execution_count": 80,
   "metadata": {},
   "outputs": [
    {
     "data": {
      "text/plain": [
       "SVC(C=1.0, cache_size=200, class_weight=None, coef0=0.0,\n",
       "  decision_function_shape='ovr', degree=3, gamma='auto_deprecated',\n",
       "  kernel='linear', max_iter=-1, probability=False, random_state=None,\n",
       "  shrinking=True, tol=0.001, verbose=False)"
      ]
     },
     "execution_count": 80,
     "metadata": {},
     "output_type": "execute_result"
    }
   ],
   "source": [
    "svm = SVC(kernel='linear')\n",
    "svm.fit(c_spinglass_X, c_spinglass_y)"
   ]
  },
  {
   "cell_type": "code",
   "execution_count": 53,
   "metadata": {},
   "outputs": [],
   "source": [
    "feat = freq_go_lab_binner.classes_.tolist()"
   ]
  },
  {
   "cell_type": "code",
   "execution_count": 97,
   "metadata": {},
   "outputs": [],
   "source": [
    "def plot_coefficients(classifier, feature_names, top_features=20):\n",
    "    coef = classifier.coef_.ravel()\n",
    "    top_positive_coefficients = np.argsort(coef)[-top_features:]\n",
    "    top_negative_coefficients = np.argsort(coef)[:top_features]\n",
    "    top_coefficients = np.hstack([top_negative_coefficients, top_positive_coefficients])\n",
    "    # create plot\n",
    "    plt.figure(figsize=(15, 5))\n",
    "    colors = ['red' if c < 0 else 'blue' for c in coef[top_coefficients]]\n",
    "    plt.bar(np.arange(2 * top_features), coef[top_coefficients], color=colors)\n",
    "    feature_names = np.array(feature_names)\n",
    "    plt.xticks(np.arange(1, 1 + 2 * top_features), feature_names[top_coefficients], rotation=60, ha='right')\n",
    "    plt.show()"
   ]
  },
  {
   "cell_type": "code",
   "execution_count": 114,
   "metadata": {},
   "outputs": [],
   "source": [
    "def f_importances(coef, names, top=20):\n",
    "    imp = coef\n",
    "    imp,names = zip(*sorted(zip(imp,names)))\n",
    "    imp_down, names_down = zip(*list(zip(imp, names))[0:top])\n",
    "    imp_up, names_up = zip(*list(zip(imp, names))[-top:])\n",
    "    plt.yticks(range(2*top), names_up+names_down)\n",
    "    plt.barh(range(top, 2*top), imp_up, align='center')\n",
    "    plt.barh(range(top), imp_down, align='center')\n",
    "    plt.show()"
   ]
  },
  {
   "cell_type": "markdown",
   "metadata": {},
   "source": [
    "(n_samples, n_classes * (n_classes - 1) / 2)"
   ]
  },
  {
   "cell_type": "code",
   "execution_count": 76,
   "metadata": {},
   "outputs": [
    {
     "data": {
      "text/plain": [
       "'ovr'"
      ]
     },
     "execution_count": 76,
     "metadata": {},
     "output_type": "execute_result"
    }
   ],
   "source": [
    "svm.decision_function_shape"
   ]
  },
  {
   "cell_type": "code",
   "execution_count": 69,
   "metadata": {},
   "outputs": [
    {
     "data": {
      "text/plain": [
       "1596.0"
      ]
     },
     "execution_count": 69,
     "metadata": {},
     "output_type": "execute_result"
    }
   ],
   "source": [
    "57 * (57-1)/2"
   ]
  },
  {
   "cell_type": "code",
   "execution_count": 79,
   "metadata": {},
   "outputs": [
    {
     "data": {
      "text/plain": [
       "(1596, 1850)"
      ]
     },
     "execution_count": 79,
     "metadata": {},
     "output_type": "execute_result"
    }
   ],
   "source": [
    "svm.coef_.shape"
   ]
  },
  {
   "cell_type": "code",
   "execution_count": 125,
   "metadata": {},
   "outputs": [
    {
     "data": {
      "text/html": [
       "<div>\n",
       "<style scoped>\n",
       "    .dataframe tbody tr th:only-of-type {\n",
       "        vertical-align: middle;\n",
       "    }\n",
       "\n",
       "    .dataframe tbody tr th {\n",
       "        vertical-align: top;\n",
       "    }\n",
       "\n",
       "    .dataframe thead th {\n",
       "        text-align: right;\n",
       "    }\n",
       "</style>\n",
       "<table border=\"1\" class=\"dataframe\">\n",
       "  <thead>\n",
       "    <tr style=\"text-align: right;\">\n",
       "      <th></th>\n",
       "      <th>cluster</th>\n",
       "      <th>GO Labels</th>\n",
       "    </tr>\n",
       "    <tr>\n",
       "      <th>names</th>\n",
       "      <th></th>\n",
       "      <th></th>\n",
       "    </tr>\n",
       "  </thead>\n",
       "  <tbody>\n",
       "    <tr>\n",
       "      <th>INSR</th>\n",
       "      <td>0</td>\n",
       "      <td>[0, 0, 0, 0, 0, 0, 0, 0, 0, 0, 0, 0, 0, 0, 0, ...</td>\n",
       "    </tr>\n",
       "    <tr>\n",
       "      <th>INSRR</th>\n",
       "      <td>0</td>\n",
       "      <td>[0, 0, 0, 0, 0, 0, 0, 0, 0, 0, 0, 0, 0, 0, 0, ...</td>\n",
       "    </tr>\n",
       "    <tr>\n",
       "      <th>SIK2</th>\n",
       "      <td>0</td>\n",
       "      <td>[0, 0, 0, 0, 0, 0, 0, 0, 0, 0, 0, 0, 0, 0, 0, ...</td>\n",
       "    </tr>\n",
       "  </tbody>\n",
       "</table>\n",
       "</div>"
      ],
      "text/plain": [
       "       cluster                                          GO Labels\n",
       "names                                                            \n",
       "INSR         0  [0, 0, 0, 0, 0, 0, 0, 0, 0, 0, 0, 0, 0, 0, 0, ...\n",
       "INSRR        0  [0, 0, 0, 0, 0, 0, 0, 0, 0, 0, 0, 0, 0, 0, 0, ...\n",
       "SIK2         0  [0, 0, 0, 0, 0, 0, 0, 0, 0, 0, 0, 0, 0, 0, 0, ..."
      ]
     },
     "execution_count": 125,
     "metadata": {},
     "output_type": "execute_result"
    }
   ],
   "source": [
    "c_spinglass_data_dict['freq'][c_spinglass_data_dict['freq']['cluster'] == 0]"
   ]
  },
  {
   "cell_type": "code",
   "execution_count": 123,
   "metadata": {},
   "outputs": [
    {
     "data": {
      "image/png": "[encoded data removed]",
      "text/plain": [
       "<Figure size 720x720 with 1 Axes>"
      ]
     },
     "metadata": {},
     "output_type": "display_data"
    }
   ],
   "source": [
    "fig, ax = plt.subplots(figsize=(10,10))\n",
    "f_importances(coef=np.mean(svm.coef_[:56,:], axis=0), names=feat)"
   ]
  }
 ],
 "metadata": {
  "kernelspec": {
   "display_name": "Python 3",
   "language": "python",
   "name": "python3"
  },
  "language_info": {
   "codemirror_mode": {
    "name": "ipython",
    "version": 3
   },
   "file_extension": ".py",
   "mimetype": "text/x-python",
   "name": "python",
   "nbconvert_exporter": "python",
   "pygments_lexer": "ipython3",
   "version": "3.6.6"
  }
 },
 "nbformat": 4,
 "nbformat_minor": 2
}
