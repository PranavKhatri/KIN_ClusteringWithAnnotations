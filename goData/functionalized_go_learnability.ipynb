{
 "cells": [
  {
   "cell_type": "code",
   "execution_count": 28,
   "metadata": {},
   "outputs": [],
   "source": [
    "import pandas as pd\n",
    "import numpy as np\n",
    "import functools as ft\n",
    "import itertools as it\n",
    "import multiprocessing as mp\n",
    "from go_learning_helpers import *\n",
    "import itertools\n",
    "import matplotlib.pyplot as plt\n",
    "%matplotlib inline"
   ]
  },
  {
   "cell_type": "code",
   "execution_count": 2,
   "metadata": {},
   "outputs": [],
   "source": [
    "file_name = 'kinase_go_annotations.csv'\n",
    "path_to_dir = './'\n",
    "\n",
    "# get the go annotations\n",
    "go_annotations = get_go_annotations_series(path_to_dir+file_name)"
   ]
  },
  {
   "cell_type": "code",
   "execution_count": 3,
   "metadata": {
    "scrolled": true
   },
   "outputs": [],
   "source": [
    "# binarize\n",
    "go_annotations = convert_go_annotations_to_one_hot(go_annotations,\n",
    "                                                   return_binarizer= False)"
   ]
  },
  {
   "cell_type": "code",
   "execution_count": 4,
   "metadata": {},
   "outputs": [
    {
     "name": "stdout",
     "output_type": "stream",
     "text": [
      "       cluster                                          GO Labels\n",
      "names                                                            \n",
      "PAK1         1  [0, 0, 0, 0, 0, 0, 0, 0, 0, 0, 0, 0, 0, 0, 0, ...\n",
      "ERBB2        2  [0, 0, 0, 0, 0, 0, 0, 0, 0, 0, 0, 0, 0, 0, 0, ...\n",
      "RON          3  [0, 0, 0, 0, 0, 0, 0, 0, 0, 0, 0, 0, 0, 0, 0, ...\n",
      "YES          3  [0, 0, 0, 0, 0, 0, 0, 0, 0, 0, 0, 0, 0, 0, 0, ...\n",
      "TYRO3        3  [0, 0, 0, 0, 0, 0, 0, 0, 0, 0, 0, 0, 0, 0, 0, ...\n"
     ]
    }
   ],
   "source": [
    "consensus_file_name = 'consensusclusters_spinglass_greaterthan90percent.txt'\n",
    "path_to_consensus = '../reproduced/'\n",
    "\n",
    "consensus_dat = add_cluster_labels(path_to_consensus+consensus_file_name,\n",
    "                                  go_annotations)\n",
    "\n",
    "print(consensus_dat.head(5))"
   ]
  },
  {
   "cell_type": "code",
   "execution_count": 105,
   "metadata": {},
   "outputs": [],
   "source": [
    "from sklearn.svm import SVC\n",
    "from sklearn.svm import NuSVC\n",
    "from sklearn.naive_bayes import GaussianNB as GNB\n",
    "from sklearn.naive_bayes import ComplementNB as CNB\n",
    "\n",
    "svm = SVC(kernel='linear')\n",
    "nb = GNB()\n",
    "cnb = CNB()\n",
    "\n",
    "classifiers = [svm, nb, cnb]"
   ]
  },
  {
   "cell_type": "code",
   "execution_count": 194,
   "metadata": {},
   "outputs": [
    {
     "name": "stdout",
     "output_type": "stream",
     "text": [
      "0.5211267605633803\n",
      "0.5070422535211268\n",
      "0.6126760563380281\n",
      "0.4359428527958702\n",
      "0.42299954416542745\n",
      "0.5560886759500943\n",
      "0.42931442080378246\n",
      "0.4174188254600868\n",
      "0.5504000921075355\n"
     ]
    }
   ],
   "source": [
    "X_train, X_test, y_train, y_test = get_tts(consensus_dat, test_size=0.3)\n",
    "\n",
    "for clf in classifiers:\n",
    "    clf.fit(X_train, y_train);\n",
    "\n",
    "for clf in classifiers:\n",
    "    print(score_model(y_test, clf.predict(X_test)))\n",
    "\n",
    "for clf in classifiers:\n",
    "    print(score_model(y_test, clf.predict(X_test), 'matthews'))\n",
    "\n",
    "for clf in classifiers:\n",
    "    print(score_model(y_test, clf.predict(X_test), 'cohen'))"
   ]
  },
  {
   "cell_type": "code",
   "execution_count": 145,
   "metadata": {},
   "outputs": [
    {
     "name": "stdout",
     "output_type": "stream",
     "text": [
      "       cluster                                          GO Labels\n",
      "names                                                            \n",
      "PAK1         3  [0, 0, 0, 0, 0, 0, 0, 0, 0, 0, 0, 0, 0, 0, 0, ...\n",
      "ERBB2        3  [0, 0, 0, 0, 0, 0, 0, 0, 0, 0, 0, 0, 0, 0, 0, ...\n",
      "RON          6  [0, 0, 0, 0, 0, 0, 0, 0, 0, 0, 0, 0, 0, 0, 0, ...\n",
      "YES          6  [0, 0, 0, 0, 0, 0, 0, 0, 0, 0, 0, 0, 0, 0, 0, ...\n",
      "TYRO3        6  [0, 0, 0, 0, 0, 0, 0, 0, 0, 0, 0, 0, 0, 0, 0, ...\n"
     ]
    }
   ],
   "source": [
    "fast_greedy_file_name = 'fastgreedy_clusters.txt'\n",
    "path_to_fast_greedy = '../reproduced/'\n",
    "\n",
    "fast_greedy_dat = add_cluster_labels(path_to_fast_greedy+fast_greedy_file_name,\n",
    "                                  go_annotations)\n",
    "\n",
    "print(fast_greedy_dat.head(5))"
   ]
  },
  {
   "cell_type": "code",
   "execution_count": 154,
   "metadata": {},
   "outputs": [
    {
     "name": "stdout",
     "output_type": "stream",
     "text": [
      "8\n"
     ]
    }
   ],
   "source": [
    "print(fast_greedy_dat['cluster'].nunique())"
   ]
  },
  {
   "cell_type": "code",
   "execution_count": 196,
   "metadata": {},
   "outputs": [
    {
     "name": "stdout",
     "output_type": "stream",
     "text": [
      "0.5211267605633803\n",
      "0.5774647887323944\n",
      "0.6690140845070423\n",
      "0.378567514844769\n",
      "0.4596381346704275\n",
      "0.5853666068401877\n",
      "0.3766300839251129\n",
      "0.4557301648141051\n",
      "0.5830313632387853\n"
     ]
    }
   ],
   "source": [
    "X_train, X_test, y_train, y_test = get_tts(fast_greedy_dat, test_size=0.3)\n",
    "\n",
    "for clf in classifiers:\n",
    "    clf.fit(X_train, y_train);\n",
    "\n",
    "for clf in classifiers:\n",
    "    print(score_model(y_test, clf.predict(X_test)))\n",
    "\n",
    "for clf in classifiers:\n",
    "    print(score_model(y_test, clf.predict(X_test), 'matthews'))\n",
    "\n",
    "for clf in classifiers:\n",
    "    print(score_model(y_test, clf.predict(X_test), 'cohen'))"
   ]
  },
  {
   "cell_type": "code",
   "execution_count": 186,
   "metadata": {},
   "outputs": [
    {
     "name": "stdout",
     "output_type": "stream",
     "text": [
      "       cluster                                          GO Labels\n",
      "names                                                            \n",
      "PAK1         1  [0, 0, 0, 0, 0, 0, 0, 0, 0, 0, 0, 0, 0, 0, 0, ...\n",
      "ERBB2        2  [0, 0, 0, 0, 0, 0, 0, 0, 0, 0, 0, 0, 0, 0, 0, ...\n",
      "RON          1  [0, 0, 0, 0, 0, 0, 0, 0, 0, 0, 0, 0, 0, 0, 0, ...\n",
      "YES          1  [0, 0, 0, 0, 0, 0, 0, 0, 0, 0, 0, 0, 0, 0, 0, ...\n",
      "TYRO3        1  [0, 0, 0, 0, 0, 0, 0, 0, 0, 0, 0, 0, 0, 0, 0, ...\n"
     ]
    }
   ],
   "source": [
    "eigen_file_name = 'consensusclusters_leadingeigenvector_greaterthan90percent.txt'\n",
    "path_to_eigen = '../reproduced/'\n",
    "\n",
    "eigen_dat = add_cluster_labels(path_to_eigen+eigen_file_name,\n",
    "                                  go_annotations)\n",
    "\n",
    "print(eigen_dat.head(5))"
   ]
  },
  {
   "cell_type": "code",
   "execution_count": 153,
   "metadata": {},
   "outputs": [
    {
     "name": "stdout",
     "output_type": "stream",
     "text": [
      "11\n"
     ]
    }
   ],
   "source": [
    "print(eigen_dat['cluster'].nunique())"
   ]
  },
  {
   "cell_type": "code",
   "execution_count": 191,
   "metadata": {},
   "outputs": [
    {
     "name": "stdout",
     "output_type": "stream",
     "text": [
      "0.6549295774647887\n",
      "0.6197183098591549\n",
      "0.6056338028169014\n",
      "0.16511282070389988\n",
      "0.09109634559467608\n",
      "0.20553291389458536\n",
      "0.15844218674407362\n",
      "0.08844507845934368\n",
      "0.20320641282565133\n"
     ]
    }
   ],
   "source": [
    "X_train, X_test, y_train, y_test = get_tts(eigen_dat, test_size=0.3)\n",
    "\n",
    "for clf in classifiers:\n",
    "    clf.fit(X_train, y_train);\n",
    "\n",
    "for clf in classifiers:\n",
    "    print(score_model(y_test, clf.predict(X_test)))\n",
    "\n",
    "for clf in classifiers:\n",
    "    print(score_model(y_test, clf.predict(X_test), 'matthews'))\n",
    "\n",
    "for clf in classifiers:\n",
    "    print(score_model(y_test, clf.predict(X_test), 'cohen'))"
   ]
  }
 ],
 "metadata": {
  "kernelspec": {
   "display_name": "Python [default]",
   "language": "python",
   "name": "python3"
  },
  "language_info": {
   "codemirror_mode": {
    "name": "ipython",
    "version": 3
   },
   "file_extension": ".py",
   "mimetype": "text/x-python",
   "name": "python",
   "nbconvert_exporter": "python",
   "pygments_lexer": "ipython3",
   "version": "3.6.5"
  }
 },
 "nbformat": 4,
 "nbformat_minor": 2
}
