{
 "cells": [
  {
   "cell_type": "code",
   "execution_count": 1,
   "metadata": {},
   "outputs": [],
   "source": [
    "import pandas as pd\n",
    "import numpy as np\n",
    "import functools as ft\n",
    "import itertools as it\n",
    "import multiprocessing as mp\n",
    "from go_learning_helpers import *\n",
    "import itertools\n",
    "import matplotlib.pyplot as plt\n",
    "%matplotlib inline"
   ]
  },
  {
   "cell_type": "code",
   "execution_count": 2,
   "metadata": {},
   "outputs": [],
   "source": [
    "file_name = 'kinase_go_annotations.csv'\n",
    "path_to_dir = './'\n",
    "\n",
    "# get the go annotations\n",
    "go_annotations = get_go_annotations_series(path_to_dir+file_name)"
   ]
  },
  {
   "cell_type": "code",
   "execution_count": 3,
   "metadata": {
    "scrolled": true
   },
   "outputs": [],
   "source": [
    "# binarize\n",
    "go_annotations = convert_go_annotations_to_one_hot(go_annotations,\n",
    "                                                   return_binarizer= False)"
   ]
  },
  {
   "cell_type": "code",
   "execution_count": 4,
   "metadata": {},
   "outputs": [
    {
     "name": "stdout",
     "output_type": "stream",
     "text": [
      "       cluster                                          GO Labels\n",
      "names                                                            \n",
      "PAK1         1  [0, 0, 0, 0, 0, 0, 0, 0, 0, 0, 0, 0, 0, 0, 0, ...\n",
      "ERBB2        2  [0, 0, 0, 0, 0, 0, 0, 0, 0, 0, 0, 0, 0, 0, 0, ...\n",
      "RON          3  [0, 0, 0, 0, 0, 0, 0, 0, 0, 0, 0, 0, 0, 0, 0, ...\n",
      "YES          3  [0, 0, 0, 0, 0, 0, 0, 0, 0, 0, 0, 0, 0, 0, 0, ...\n",
      "TYRO3        3  [0, 0, 0, 0, 0, 0, 0, 0, 0, 0, 0, 0, 0, 0, 0, ...\n"
     ]
    }
   ],
   "source": [
    "consensus_file_name = 'consensusclusters_spinglass_greaterthan90percent.txt'\n",
    "path_to_consensus = '../reproduced/'\n",
    "\n",
    "consensus_dat = add_cluster_labels(path_to_consensus+consensus_file_name,\n",
    "                                  go_annotations)\n",
    "\n",
    "print(consensus_dat.head(5))"
   ]
  },
  {
   "cell_type": "code",
   "execution_count": 5,
   "metadata": {},
   "outputs": [],
   "source": [
    "from collections import Counter\n",
    "\n",
    "c = Counter(consensus_dat['cluster'])"
   ]
  },
  {
   "cell_type": "code",
   "execution_count": 6,
   "metadata": {},
   "outputs": [
    {
     "data": {
      "text/plain": [
       "[(7, 126),\n",
       " (3, 61),\n",
       " (6, 58),\n",
       " (12, 48),\n",
       " (18, 22),\n",
       " (28, 22),\n",
       " (2, 17),\n",
       " (8, 15),\n",
       " (44, 9),\n",
       " (13, 7)]"
      ]
     },
     "execution_count": 6,
     "metadata": {},
     "output_type": "execute_result"
    }
   ],
   "source": [
    "c.most_common(n=10)"
   ]
  },
  {
   "cell_type": "code",
   "execution_count": 7,
   "metadata": {},
   "outputs": [],
   "source": [
    "from sklearn.svm import SVC\n",
    "from sklearn.svm import NuSVC\n",
    "from sklearn.naive_bayes import GaussianNB as GNB\n",
    "from sklearn.naive_bayes import ComplementNB as CNB\n",
    "\n",
    "svm = SVC(kernel='linear')\n",
    "nb = GNB()\n",
    "cnb = CNB()\n",
    "\n",
    "classifiers = [svm, nb, cnb]"
   ]
  },
  {
   "cell_type": "code",
   "execution_count": 8,
   "metadata": {},
   "outputs": [
    {
     "name": "stdout",
     "output_type": "stream",
     "text": [
      "0.5422535211267606\n",
      "0.528169014084507\n",
      "0.5915492957746479\n",
      "0.45503193724238\n",
      "0.44407086597559214\n",
      "0.5196759235400495\n",
      "0.4500387296669248\n",
      "0.43890068412361405\n",
      "0.5169784763356988\n"
     ]
    }
   ],
   "source": [
    "X_train, X_test, y_train, y_test = get_tts(consensus_dat, test_size=0.3)\n",
    "\n",
    "for clf in classifiers:\n",
    "    clf.fit(X_train, y_train);\n",
    "\n",
    "for clf in classifiers:\n",
    "    print(score_model(y_test, clf.predict(X_test)))\n",
    "\n",
    "for clf in classifiers:\n",
    "    print(score_model(y_test, clf.predict(X_test), 'matthews'))\n",
    "\n",
    "for clf in classifiers:\n",
    "    print(score_model(y_test, clf.predict(X_test), 'cohen'))"
   ]
  },
  {
   "cell_type": "code",
   "execution_count": 9,
   "metadata": {},
   "outputs": [
    {
     "data": {
      "text/plain": [
       "array([0., 0., 0., ..., 0., 0., 0.])"
      ]
     },
     "execution_count": 9,
     "metadata": {},
     "output_type": "execute_result"
    }
   ],
   "source": [
    "nb.theta_[6]"
   ]
  },
  {
   "cell_type": "code",
   "execution_count": 10,
   "metadata": {},
   "outputs": [
    {
     "data": {
      "text/plain": [
       "array([[2.73071622e-10, 2.73071622e-10, 2.73071622e-10, ...,\n",
       "        2.73071622e-10, 2.73071622e-10, 2.73071622e-10],\n",
       "       [2.73071622e-10, 2.73071622e-10, 2.73071622e-10, ...,\n",
       "        2.73071622e-10, 1.95555556e-01, 2.73071622e-10],\n",
       "       [2.73071622e-10, 2.73071622e-10, 2.73071622e-10, ...,\n",
       "        2.73071622e-10, 2.22107441e-02, 2.73071622e-10],\n",
       "       ...,\n",
       "       [2.73071622e-10, 2.73071622e-10, 2.73071622e-10, ...,\n",
       "        2.73071622e-10, 2.73071622e-10, 2.73071622e-10],\n",
       "       [2.73071622e-10, 2.73071622e-10, 2.73071622e-10, ...,\n",
       "        2.73071622e-10, 2.73071622e-10, 2.73071622e-10],\n",
       "       [2.73071622e-10, 2.73071622e-10, 2.73071622e-10, ...,\n",
       "        2.73071622e-10, 2.73071622e-10, 2.73071622e-10]])"
      ]
     },
     "execution_count": 10,
     "metadata": {},
     "output_type": "execute_result"
    }
   ],
   "source": [
    "nb.sigma_"
   ]
  },
  {
   "cell_type": "code",
   "execution_count": null,
   "metadata": {},
   "outputs": [],
   "source": []
  },
  {
   "cell_type": "code",
   "execution_count": 11,
   "metadata": {},
   "outputs": [
    {
     "name": "stdout",
     "output_type": "stream",
     "text": [
      "       cluster                                          GO Labels\n",
      "names                                                            \n",
      "PAK1         3  [0, 0, 0, 0, 0, 0, 0, 0, 0, 0, 0, 0, 0, 0, 0, ...\n",
      "ERBB2        3  [0, 0, 0, 0, 0, 0, 0, 0, 0, 0, 0, 0, 0, 0, 0, ...\n",
      "RON          6  [0, 0, 0, 0, 0, 0, 0, 0, 0, 0, 0, 0, 0, 0, 0, ...\n",
      "YES          6  [0, 0, 0, 0, 0, 0, 0, 0, 0, 0, 0, 0, 0, 0, 0, ...\n",
      "TYRO3        6  [0, 0, 0, 0, 0, 0, 0, 0, 0, 0, 0, 0, 0, 0, 0, ...\n"
     ]
    }
   ],
   "source": [
    "fast_greedy_file_name = 'fastgreedy_clusters.txt'\n",
    "path_to_fast_greedy = '../reproduced/'\n",
    "\n",
    "fast_greedy_dat = add_cluster_labels(path_to_fast_greedy+fast_greedy_file_name,\n",
    "                                  go_annotations)\n",
    "\n",
    "print(fast_greedy_dat.head(5))"
   ]
  },
  {
   "cell_type": "code",
   "execution_count": 12,
   "metadata": {},
   "outputs": [
    {
     "name": "stdout",
     "output_type": "stream",
     "text": [
      "8\n"
     ]
    }
   ],
   "source": [
    "print(fast_greedy_dat['cluster'].nunique())"
   ]
  },
  {
   "cell_type": "code",
   "execution_count": 13,
   "metadata": {},
   "outputs": [
    {
     "name": "stdout",
     "output_type": "stream",
     "text": [
      "0.5563380281690141\n",
      "0.5211267605633803\n",
      "0.6056338028169014\n",
      "0.42022693906759623\n",
      "0.37313629882230914\n",
      "0.4965813974774405\n",
      "0.41429880843263067\n",
      "0.3688063799189436\n",
      "0.49504699009398023\n"
     ]
    }
   ],
   "source": [
    "X_train, X_test, y_train, y_test = get_tts(fast_greedy_dat, test_size=0.3)\n",
    "\n",
    "for clf in classifiers:\n",
    "    clf.fit(X_train, y_train);\n",
    "\n",
    "for clf in classifiers:\n",
    "    print(score_model(y_test, clf.predict(X_test)))\n",
    "\n",
    "for clf in classifiers:\n",
    "    print(score_model(y_test, clf.predict(X_test), 'matthews'))\n",
    "\n",
    "for clf in classifiers:\n",
    "    print(score_model(y_test, clf.predict(X_test), 'cohen'))"
   ]
  },
  {
   "cell_type": "code",
   "execution_count": 14,
   "metadata": {},
   "outputs": [
    {
     "name": "stdout",
     "output_type": "stream",
     "text": [
      "       cluster                                          GO Labels\n",
      "names                                                            \n",
      "PAK1         1  [0, 0, 0, 0, 0, 0, 0, 0, 0, 0, 0, 0, 0, 0, 0, ...\n",
      "ERBB2        2  [0, 0, 0, 0, 0, 0, 0, 0, 0, 0, 0, 0, 0, 0, 0, ...\n",
      "RON          1  [0, 0, 0, 0, 0, 0, 0, 0, 0, 0, 0, 0, 0, 0, 0, ...\n",
      "YES          1  [0, 0, 0, 0, 0, 0, 0, 0, 0, 0, 0, 0, 0, 0, 0, ...\n",
      "TYRO3        1  [0, 0, 0, 0, 0, 0, 0, 0, 0, 0, 0, 0, 0, 0, 0, ...\n"
     ]
    }
   ],
   "source": [
    "eigen_file_name = 'consensusclusters_leadingeigenvector_greaterthan90percent.txt'\n",
    "path_to_eigen = '../reproduced/'\n",
    "\n",
    "eigen_dat = add_cluster_labels(path_to_eigen+eigen_file_name,\n",
    "                                  go_annotations)\n",
    "\n",
    "print(eigen_dat.head(5))"
   ]
  },
  {
   "cell_type": "code",
   "execution_count": 15,
   "metadata": {},
   "outputs": [
    {
     "name": "stdout",
     "output_type": "stream",
     "text": [
      "11\n"
     ]
    }
   ],
   "source": [
    "print(eigen_dat['cluster'].nunique())"
   ]
  },
  {
   "cell_type": "code",
   "execution_count": 16,
   "metadata": {},
   "outputs": [
    {
     "name": "stdout",
     "output_type": "stream",
     "text": [
      "0.6619718309859155\n",
      "0.6338028169014085\n",
      "0.5492957746478874\n",
      "0.1203946859156245\n",
      "0.1644538614030727\n",
      "0.17056091647220434\n",
      "0.11926605504587151\n",
      "0.15899772209567198\n",
      "0.16154626810591388\n"
     ]
    }
   ],
   "source": [
    "X_train, X_test, y_train, y_test = get_tts(eigen_dat, test_size=0.3)\n",
    "\n",
    "for clf in classifiers:\n",
    "    clf.fit(X_train, y_train);\n",
    "\n",
    "for clf in classifiers:\n",
    "    print(score_model(y_test, clf.predict(X_test)))\n",
    "\n",
    "for clf in classifiers:\n",
    "    print(score_model(y_test, clf.predict(X_test), 'matthews'))\n",
    "\n",
    "for clf in classifiers:\n",
    "    print(score_model(y_test, clf.predict(X_test), 'cohen'))"
   ]
  },
  {
   "cell_type": "code",
   "execution_count": 17,
   "metadata": {},
   "outputs": [],
   "source": [
    "from sklearn.metrics import adjusted_rand_score"
   ]
  },
  {
   "cell_type": "markdown",
   "metadata": {},
   "source": [
    "'ARI is symmetric, so labelings that have pure clusters with members coming from the same classes but unnecessary splits are penalized:'"
   ]
  },
  {
   "cell_type": "code",
   "execution_count": 18,
   "metadata": {},
   "outputs": [
    {
     "name": "stdout",
     "output_type": "stream",
     "text": [
      "Adj Rand sim between consensus and fast_greedy:  0.5611680241884158\n",
      "Adj Rand sim between consensus and leading_eigen:  0.06263246814221338\n",
      "Adj Rand sim between eigen and fast_greedy:  0.08359260686075506\n"
     ]
    }
   ],
   "source": [
    "print('Adj Rand sim between consensus and fast_greedy: ', adjusted_rand_score(labels_pred=consensus_dat['cluster'],labels_true=fast_greedy_dat['cluster']))\n",
    "print('Adj Rand sim between consensus and leading_eigen: ', adjusted_rand_score(labels_pred=consensus_dat['cluster'],labels_true=eigen_dat['cluster']))\n",
    "print('Adj Rand sim between eigen and fast_greedy: ', adjusted_rand_score(labels_pred=eigen_dat['cluster'],labels_true=fast_greedy_dat['cluster']))\n"
   ]
  },
  {
   "cell_type": "code",
   "execution_count": 19,
   "metadata": {},
   "outputs": [],
   "source": [
    "fast_greedy_c = Counter(fast_greedy_dat['cluster'])\n",
    "consensus_c = Counter(consensus_dat['cluster'])"
   ]
  },
  {
   "cell_type": "code",
   "execution_count": 20,
   "metadata": {},
   "outputs": [
    {
     "name": "stdout",
     "output_type": "stream",
     "text": [
      "[(7, 126), (3, 61), (6, 58), (12, 48), (18, 22), (28, 22), (2, 17), (8, 15)]\n",
      "[(4, 169), (3, 79), (2, 77), (1, 60), (6, 41), (5, 38), (8, 5), (7, 4)]\n"
     ]
    }
   ],
   "source": [
    "print(consensus_c.most_common(8))\n",
    "print(fast_greedy_c.most_common(8))"
   ]
  },
  {
   "cell_type": "code",
   "execution_count": 21,
   "metadata": {},
   "outputs": [
    {
     "data": {
      "text/plain": [
       "28"
      ]
     },
     "execution_count": 21,
     "metadata": {},
     "output_type": "execute_result"
    }
   ],
   "source": [
    "len(list(filter(lambda x: x[1] > 1, consensus_c.items())))"
   ]
  },
  {
   "cell_type": "markdown",
   "metadata": {},
   "source": [
    "Let's try seeing how the "
   ]
  },
  {
   "cell_type": "code",
   "execution_count": 24,
   "metadata": {},
   "outputs": [
    {
     "data": {
      "text/plain": [
       "[(0.5563380281690141, 0.4746253373928352),\n",
       " (0.528169014084507, 0.4570130483357137),\n",
       " (0.5, 0.4260579712866458),\n",
       " (0.5070422535211268, 0.4266250980566518),\n",
       " (0.4647887323943662, 0.3832147159182527),\n",
       " (0.4859154929577465, 0.412992050145003),\n",
       " (0.5070422535211268, 0.4219290731138329),\n",
       " (0.528169014084507, 0.4529457106615545),\n",
       " (0.43661971830985913, 0.36759988478219197),\n",
       " (0.4859154929577465, 0.40792591455419913),\n",
       " (0.5070422535211268, 0.4207641936923265),\n",
       " (0.4788732394366197, 0.40040293855303266),\n",
       " (0.44366197183098594, 0.36362926948862934),\n",
       " (0.4859154929577465, 0.39882834611134166),\n",
       " (0.5633802816901409, 0.4838824580578401),\n",
       " (0.4859154929577465, 0.4129222759321008),\n",
       " (0.5492957746478874, 0.4858963175876966),\n",
       " (0.5633802816901409, 0.47992095210450053),\n",
       " (0.5422535211267606, 0.45816504723044915),\n",
       " (0.5211267605633803, 0.443457545077491),\n",
       " (0.528169014084507, 0.44489833820992125),\n",
       " (0.4859154929577465, 0.40916658183910126),\n",
       " (0.49295774647887325, 0.4141005977934184),\n",
       " (0.5070422535211268, 0.42685577534510616),\n",
       " (0.45774647887323944, 0.376273672186015),\n",
       " (0.5140845070422535, 0.4419531713218475),\n",
       " (0.45774647887323944, 0.3821834400870938),\n",
       " (0.44366197183098594, 0.3547273575333934),\n",
       " (0.4507042253521127, 0.36791103093948724),\n",
       " (0.5422535211267606, 0.45297636102193733),\n",
       " (0.5352112676056338, 0.45644757789287843),\n",
       " (0.5070422535211268, 0.40801265587891666),\n",
       " (0.49295774647887325, 0.4246160297953956),\n",
       " (0.5563380281690141, 0.4746253373928352),\n",
       " (0.5563380281690141, 0.4746253373928352),\n",
       " (0.528169014084507, 0.4570130483357137),\n",
       " (0.5, 0.4260579712866458),\n",
       " (0.5070422535211268, 0.4266250980566518),\n",
       " (0.4647887323943662, 0.3832147159182527),\n",
       " (0.4859154929577465, 0.412992050145003),\n",
       " (0.5070422535211268, 0.4219290731138329),\n",
       " (0.528169014084507, 0.4529457106615545),\n",
       " (0.43661971830985913, 0.36759988478219197),\n",
       " (0.4859154929577465, 0.40792591455419913),\n",
       " (0.5070422535211268, 0.4207641936923265),\n",
       " (0.4788732394366197, 0.40040293855303266),\n",
       " (0.44366197183098594, 0.36362926948862934),\n",
       " (0.4859154929577465, 0.39882834611134166),\n",
       " (0.5633802816901409, 0.4838824580578401),\n",
       " (0.4859154929577465, 0.4129222759321008),\n",
       " (0.5492957746478874, 0.4858963175876966),\n",
       " (0.5633802816901409, 0.47992095210450053),\n",
       " (0.5422535211267606, 0.45816504723044915),\n",
       " (0.5211267605633803, 0.443457545077491),\n",
       " (0.528169014084507, 0.44489833820992125),\n",
       " (0.4859154929577465, 0.40916658183910126),\n",
       " (0.49295774647887325, 0.4141005977934184),\n",
       " (0.5070422535211268, 0.42685577534510616),\n",
       " (0.45774647887323944, 0.376273672186015),\n",
       " (0.5140845070422535, 0.4419531713218475),\n",
       " (0.45774647887323944, 0.3821834400870938),\n",
       " (0.44366197183098594, 0.3547273575333934),\n",
       " (0.4507042253521127, 0.36791103093948724),\n",
       " (0.5422535211267606, 0.45297636102193733),\n",
       " (0.5352112676056338, 0.45644757789287843),\n",
       " (0.5070422535211268, 0.40801265587891666),\n",
       " (0.49295774647887325, 0.4246160297953956),\n",
       " (0.528169014084507, 0.4570130483357137),\n",
       " (0.5, 0.4260579712866458),\n",
       " (0.5070422535211268, 0.4266250980566518),\n",
       " (0.4647887323943662, 0.3832147159182527),\n",
       " (0.4859154929577465, 0.412992050145003),\n",
       " (0.5070422535211268, 0.4219290731138329),\n",
       " (0.528169014084507, 0.4529457106615545),\n",
       " (0.43661971830985913, 0.36759988478219197),\n",
       " (0.4859154929577465, 0.40792591455419913),\n",
       " (0.5070422535211268, 0.4207641936923265),\n",
       " (0.4788732394366197, 0.40040293855303266),\n",
       " (0.44366197183098594, 0.36362926948862934),\n",
       " (0.4859154929577465, 0.39882834611134166),\n",
       " (0.5633802816901409, 0.4838824580578401),\n",
       " (0.4859154929577465, 0.4129222759321008),\n",
       " (0.5492957746478874, 0.4858963175876966),\n",
       " (0.5633802816901409, 0.47992095210450053),\n",
       " (0.5422535211267606, 0.45816504723044915),\n",
       " (0.5211267605633803, 0.443457545077491),\n",
       " (0.528169014084507, 0.44489833820992125),\n",
       " (0.4859154929577465, 0.40916658183910126),\n",
       " (0.49295774647887325, 0.4141005977934184),\n",
       " (0.5070422535211268, 0.42685577534510616),\n",
       " (0.45774647887323944, 0.376273672186015),\n",
       " (0.5140845070422535, 0.4419531713218475),\n",
       " (0.45774647887323944, 0.3821834400870938),\n",
       " (0.44366197183098594, 0.3547273575333934),\n",
       " (0.4507042253521127, 0.36791103093948724),\n",
       " (0.5422535211267606, 0.45297636102193733),\n",
       " (0.5352112676056338, 0.45644757789287843),\n",
       " (0.5070422535211268, 0.40801265587891666),\n",
       " (0.49295774647887325, 0.4246160297953956),\n",
       " (0.4859154929577465, 0.3996326437027959)]"
      ]
     },
     "execution_count": 24,
     "metadata": {},
     "output_type": "execute_result"
    }
   ],
   "source": [
    "validate_learnability(n_run = 100, dat_df=consensus_dat, clf=nb, parallel=3, metrics=['accuracy', 'matthews'], test_size=0.3)"
   ]
  }
 ],
 "metadata": {
  "kernelspec": {
   "display_name": "Python 3",
   "language": "python",
   "name": "python3"
  },
  "language_info": {
   "codemirror_mode": {
    "name": "ipython",
    "version": 3
   },
   "file_extension": ".py",
   "mimetype": "text/x-python",
   "name": "python",
   "nbconvert_exporter": "python",
   "pygments_lexer": "ipython3",
   "version": "3.6.6"
  }
 },
 "nbformat": 4,
 "nbformat_minor": 2
}
