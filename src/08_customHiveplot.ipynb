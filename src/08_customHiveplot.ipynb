{
 "cells": [
  {
   "cell_type": "code",
   "execution_count": null,
   "metadata": {
    "scrolled": true
   },
   "outputs": [],
   "source": [
    "import pandas as pd, numpy as np\n",
    "import matplotlib.cm as cm\n",
    "import matplotlib.pyplot as plt\n",
    "from tools import networkHelpers as nh \n",
    "\n",
    "from tools.dev_hiveplot import hiveplot as hp\n",
    "from tools import networkHelpers as nh\n",
    "from copy import copy\n",
    "from importlib import reload\n",
    "\n",
    "%matplotlib inline"
   ]
  },
  {
   "cell_type": "markdown",
   "metadata": {},
   "source": [
    "## Read in HGNC Mapper"
   ]
  },
  {
   "cell_type": "code",
   "execution_count": null,
   "metadata": {},
   "outputs": [],
   "source": [
    "hgnc_mapper = nh.fetch_hgnc_mapper()"
   ]
  },
  {
   "cell_type": "markdown",
   "metadata": {},
   "source": [
    "## Create Louvain clusters"
   ]
  },
  {
   "cell_type": "code",
   "execution_count": null,
   "metadata": {},
   "outputs": [],
   "source": [
    "louvain_sub = pd.read_csv('../results/weighted/louvain_small_clusters.txt', sep='\\t')\n",
    "louvain_super = pd.read_csv('../results/weighted/louvain_clusters.txt', sep='\\t')\n",
    "louv= louvain_super.merge(louvain_sub.set_index('names'), how='left', on='names', suffixes=['_super', '_sub'])\n",
    "louv.head()"
   ]
  },
  {
   "cell_type": "markdown",
   "metadata": {},
   "source": [
    "## Read in the Graph for connectivity"
   ]
  },
  {
   "cell_type": "code",
   "execution_count": null,
   "metadata": {},
   "outputs": [],
   "source": [
    "graph_edges = pd.read_csv('../data/kin/kin_unweighted.csv', sep='\\t', header=None)\n",
    "graph_edges.head()"
   ]
  },
  {
   "cell_type": "code",
   "execution_count": null,
   "metadata": {},
   "outputs": [],
   "source": [
    "graph_edges_duplicate = copy(graph_edges)\n",
    "graph_edges_duplicate.columns = [1,0]\n",
    "graph_edges_duplicate = graph_edges_duplicate[[0,1]]\n",
    "graph_edges_extended= graph_edges.append(graph_edges_duplicate)"
   ]
  },
  {
   "cell_type": "code",
   "execution_count": null,
   "metadata": {},
   "outputs": [],
   "source": [
    "graph_edge_dict = graph_edges_extended.groupby(0).agg(lambda x: set(x)).to_dict()[1]\n",
    "graph_edge_dict.update({x:y|set([x]) for x,y in graph_edge_dict.items()})# make reflexive\n",
    "graph_edge_dict"
   ]
  },
  {
   "cell_type": "markdown",
   "metadata": {},
   "source": [
    "## Drug targeting"
   ]
  },
  {
   "cell_type": "code",
   "execution_count": null,
   "metadata": {},
   "outputs": [],
   "source": [
    "drug_data = pd.read_excel('../data/ref/Klaeger_Science_2017 Supplementary Table 6 Selectivities.xlsx', sheet_name='CATDS target')\n",
    "drug_data.head()"
   ]
  },
  {
   "cell_type": "code",
   "execution_count": null,
   "metadata": {},
   "outputs": [],
   "source": [
    "double_drug_targets = drug_data[drug_data['Target'].apply(lambda x: ';' in x)]\n",
    "#double_drug_targets.shape\n",
    "\n",
    "first_genes = double_drug_targets['Target'].apply(lambda x: x.split(';')[0])\n",
    "second_genes = double_drug_targets['Target'].apply(lambda x: x.split(';')[1])\n",
    "\n",
    "repaired_double_targets = double_drug_targets.drop('Target', axis=1).assign(**{'Target':first_genes})\n",
    "repaired_double_targets = repaired_double_targets.append(double_drug_targets.drop('Target', axis=1).assign(**{'Target':second_genes})) \n",
    "\n",
    "drug_data = drug_data.drop(double_drug_targets.index).append(repaired_double_targets, sort=False)\n",
    "\n",
    "# filter to only hgnc keys\n",
    "drug_data = drug_data[drug_data.Target.isin(hgnc_mapper.keys())]\n",
    "\n",
    "# convert to hgnc\n",
    "drug_data.Target = drug_data.Target.apply(lambda x: hgnc_mapper[x])\n",
    "\n",
    "drug_list = list(sorted(set(drug_data.Drug)))\n",
    "len(drug_list)\n",
    "\n",
    "# sort columns\n",
    "drug_data = drug_data[['Target', 'Drug', 'At', 'CATDS']]\n",
    "drug_data.head()"
   ]
  },
  {
   "cell_type": "code",
   "execution_count": null,
   "metadata": {},
   "outputs": [],
   "source": [
    "# filter to kinases present\n",
    "drug_data = drug_data[drug_data.Target.isin(set(louv['names']))]\n",
    "\n",
    "# create dicts to map cluster numbers\n",
    "gene_to_sub_mapper = louv.set_index('names')['cluster_sub'].to_dict()\n",
    "gene_to_super_mapper = louv.set_index('names')['cluster_super'].to_dict() \n",
    "\n",
    "drug_data['cluster_sub'] = drug_data.Target.apply(lambda x: gene_to_sub_mapper[x])\n",
    "drug_data['cluster_super'] = drug_data.Target.apply(lambda x: gene_to_super_mapper[x])\n",
    "\n",
    "drug_data.head()"
   ]
  },
  {
   "cell_type": "markdown",
   "metadata": {},
   "source": [
    "## Functionalized plotting and coloring"
   ]
  },
  {
   "cell_type": "code",
   "execution_count": null,
   "metadata": {},
   "outputs": [],
   "source": [
    "understudied = set(pd.read_csv('../data/ref/dark_kinases.csv')['symbol'])\n",
    "\n",
    "display(understudied)"
   ]
  },
  {
   "cell_type": "markdown",
   "metadata": {},
   "source": [
    "### Overwrite family data to supercluster assignments"
   ]
  },
  {
   "cell_type": "code",
   "execution_count": null,
   "metadata": {
    "scrolled": true
   },
   "outputs": [],
   "source": [
    "## set to supercluster number\n",
    "kinase_family_data = louv.set_index('names')['cluster_super']"
   ]
  },
  {
   "cell_type": "code",
   "execution_count": null,
   "metadata": {},
   "outputs": [],
   "source": [
    "def plot_sub_super_hiveplot(sub_clust_no, super_clust_no, fig, ax, kinase_family_data, axis_pad=None):\n",
    "    nodes = {}\n",
    "    \n",
    "    nodes['kinome'] = []\n",
    "    all_families = set(kinase_family_data)\n",
    "    for i,family in enumerate(all_families):\n",
    "        nodes.update({'kinome':nodes['kinome']+[('kinome_'+x,x) for x in list(louv[louv.cluster_super==family].sort_values(by='cluster_sub').names)]+[('kinome_'+str(j),'empty'+str(j), 'empty') for j in range(i*len(louv.names)//25,(i+1)*len(louv.names)//25)] if i < len(all_families) else []})\n",
    "    \n",
    "    \n",
    "    #nodes['kinome'] = [('kinome_'+x,x) for x in louv.names]\n",
    "    nodes['drug'] = [('drug_'+x,x) for x in drug_list]\n",
    "    \n",
    "    super_cluster_size = len(louv[louv.cluster_super == super_clust_no])\n",
    "    sub_cluster_size = len(louv[louv.cluster_sub == sub_clust_no])\n",
    "    superkinase_to_sub_clust_id_dict = louv[louv.cluster_super == super_clust_no].set_index('names').cluster_sub.to_dict()\n",
    "\n",
    "    # add the understudied kinases last, as we reverse\n",
    "    nodes['sub'] = [('sub_'+x,x,'well') for x,z in zip(louv.names, louv.cluster_sub) if z == sub_clust_no and x not in understudied]\n",
    "    nodes.update({'sub':nodes['sub']+[('sub_empty'+str(i),'empty'+str(i),'empty') for i in range(0,sub_cluster_size//15+1)]}) # add empty divider proportiona to length\n",
    "    nodes.update({'sub':nodes['sub']+[('sub_'+x,x,'under') for x,z in zip(louv.names, louv.cluster_sub) if z == sub_clust_no and x in understudied]})\n",
    "    \n",
    "    #print(nodes['sub'])\n",
    "    nodes['super'] = []\n",
    "    set_of_subclusts_in_superclust = list(louv[louv.cluster_super == super_clust_no].cluster_sub.unique())\n",
    "    sub_clust_id_dict = {x:y for y,x in enumerate(set_of_subclusts_in_superclust)}\n",
    "    \n",
    "    for i, sub_clust_in_super in enumerate(set_of_subclusts_in_superclust):\n",
    "        #print(i)\n",
    "        nodes.update({'super':nodes['super']+[('super_'+x,x,i) for x,y,z in zip(louv.names, louv.cluster_super, louv.cluster_sub) if y == super_clust_no and z == sub_clust_in_super]+[('super_empty'+str(j),'empty'+str(j),'empty') for j in range(i*sum(louv.cluster_super==super_clust_no)//20, (i+1)*sum(louv.cluster_super==super_clust_no)//20)]})\n",
    "\n",
    "    # get the supercluster genes\n",
    "    louv_super_names = set(louv[louv.cluster_super == super_clust_no].names)\n",
    "    drug_sub_hits = copy(drug_data[drug_data.cluster_sub == sub_clust_no])\n",
    "    present_drug_set = set(drug_sub_hits.Drug)\n",
    "    present_drug_list = list(present_drug_set)\n",
    "\n",
    "    # compute mean CATDS\n",
    "    mean_drug_catds = (drug_sub_hits.groupby('Drug')['CATDS'].agg(sum)/drug_sub_hits.groupby('Drug')['CATDS'].agg(len)).to_dict()\n",
    "\n",
    "    # sort present drugs by catds\n",
    "    try:\n",
    "        sorted_present_drugs, ___ = zip(*sorted(zip(present_drug_list, [mean_drug_catds[x] for x in present_drug_list]), key = lambda x: x[1]))\n",
    "    except:\n",
    "        sorted_present_drugs = []\n",
    "\n",
    "    sorted_present_drugs = list(sorted_present_drugs)\n",
    "\n",
    "    # sort the drugs by 1) presence 2) selectivity\n",
    "    drugs_not_present = list(set(drug_list) - set(present_drug_set))\n",
    "\n",
    "    #nodes.update({'drug':[('drug_'+x,x) for x in drugs_not_present + sorted_present_drugs]})\n",
    "    nodes.update({'drug':[('drug_'+x,x) for x in list(reversed(sorted_present_drugs)) + drugs_not_present]})\n",
    "\n",
    "    # calculate total drug hits of present drugs\n",
    "    total_drug_hits = drug_data[drug_data.Drug.isin(present_drug_set)]\n",
    "    total_drug_hit_sets = total_drug_hits.groupby('Drug')['Target'].agg(lambda x: set(x)).to_dict()\n",
    "\n",
    "    edges = {}\n",
    "    edges['sub_super'] = [(sub_node,('super_'+super_node, super_node, sub_clust_id_dict[superkinase_to_sub_clust_id_dict[super_node]]),1) for sub_node in nodes['sub'] if 'empty' != sub_node[2] for super_node in graph_edge_dict[sub_node[1]] if super_node in louv_super_names]\n",
    "    edges['super_kinome'] = [(super_node,('kinome_'+kin_node, kin_node),1) for super_node in nodes['super'] if super_node[2] != 'empty' for kin_node in graph_edge_dict[super_node[1]]]\n",
    "    edges['sub_kinome'] = [(('super_'+sub_node[1],sub_node[1], sub_clust_id_dict[superkinase_to_sub_clust_id_dict[sub_node[1]]]),('kinome_'+kin_node, kin_node),1) for sub_node in nodes['sub'] if 'empty' != sub_node[2] for kin_node in graph_edge_dict[sub_node[1]]]\n",
    "    \n",
    "    # create understudied status dict for drug_sub hits\n",
    "    understudied_status_dict = {x:'well' for x,z in zip(louv.names, louv.cluster_sub) if z == sub_clust_no and x not in understudied}\n",
    "    understudied_status_dict.update({x:'under' for x,z in zip(louv.names, louv.cluster_sub) if z == sub_clust_no and x in understudied})\n",
    "    \n",
    "    edges['drug_sub'] = [(('drug_'+drug,drug), ('sub_'+target,target,understudied_status_dict[target]), at_value) for drug,target,at_value in zip(drug_sub_hits.Drug, drug_sub_hits.Target, -np.log(drug_sub_hits.At.values))]\n",
    "    edges['drug_kin'] = [(('drug_'+drug,drug), ('kinome_'+kin_node,kin_node), 1) for drug in sorted_present_drugs for kin_node in total_drug_hit_sets[drug]]\n",
    "\n",
    "    #print(edges['drug_sub'])\n",
    "    \n",
    "    # filter the sub_kinome connections from the super_kinome connections\n",
    "    edges['super_kinome'] = list(filter(lambda x: x not in edges['sub_kinome'], edges['super_kinome']))\n",
    "\n",
    "    nodes_cmap = dict()\n",
    "    nodes_cmap['kinome'] = lambda x: 'white' if x[0][1] == 'empty' else 'black'\n",
    "    nodes_cmap['drug'] = 'black'\n",
    "    \n",
    "    sub_color_dict = {'empty':'white', 'under':'blue', 'well':'black'}\n",
    "    nodes_cmap['sub'] = lambda x: sub_color_dict[x[2]]\n",
    "    \n",
    "    #print(len(set_of_subclusts_in_superclust))\n",
    "    #len(set_of_subclusts_in_superclust)*1.0\n",
    "    nodes_cmap['super'] = lambda x: cm.jet(x[2]*1.0/(len(set_of_subclusts_in_superclust)*1.0)) if x[2] != 'empty' else 'white'\n",
    "\n",
    "    edges_cmap = dict()\n",
    "    edges_cmap['sub_super'] = lambda x: 'blue' if x[0][2] is 'under' else 'orange'\n",
    "    edges_cmap['sub_kinome'] = lambda x: 'blue' if x[0][1] in understudied else 'orange'\n",
    "    edges_cmap['super_kinome'] = 'black'\n",
    "    edges_cmap['drug_sub'] = 'red'\n",
    "    edges_cmap['drug_kin'] = lambda x: 'purple' if x[1][1] not in understudied else 'red'\n",
    "\n",
    "    d, k, S, s = (len(drug_list),len(louv.names.unique()), len(louv_super_names), len(nodes['sub']))\n",
    "    d, k, S, s = list(map(lambda x:(np.log(x)+1)/x, [d, k, S, s]))\n",
    "    \n",
    "    group_scale = {}\n",
    "    group_scale['kinome'] = k/s\n",
    "    group_scale['super'] = S/s\n",
    "    group_scale['drug'] = d/s\n",
    "    group_scale['sub'] = 1.0\n",
    "    \n",
    "    group_reverse = {}\n",
    "    group_reverse['kinome'] = False\n",
    "    group_reverse['super'] = True\n",
    "    group_reverse['drug'] = True\n",
    "    group_reverse['sub'] = True\n",
    "    \n",
    "    h = hp.HivePlot(nodes, edges, nodes_cmap, edges_cmap, fig=fig, ax=ax, group_scale=group_scale, reverse_to_expand=group_reverse, skip_within=True, axis_pad=axis_pad)\n",
    "    h.draw()\n",
    "    \n",
    "    return h\n"
   ]
  },
  {
   "cell_type": "code",
   "execution_count": null,
   "metadata": {
    "scrolled": false
   },
   "outputs": [],
   "source": [
    "import matplotlib.lines as lines\n",
    "import matplotlib.patches as patches\n",
    "fig, ax = plt.subplots(ncols=1,nrows=1, figsize=(8,8))\n",
    "\n",
    "h = plot_sub_super_hiveplot(sub_clust_no=2, super_clust_no=2, \n",
    "                            fig=fig, ax=ax, \n",
    "                            kinase_family_data = kinase_family_data, \n",
    "                            axis_pad=180)\n",
    "\n",
    "kin_height = np.log(len(louv.names)+(len(louv.names)//25*9))*10\n",
    "\n",
    "import matplotlib.collections  as mc\n",
    "#bars = [[(0,plt.xlim()[1]-100), (0,plt.ylim())], [(0,plt.xlim()[0]+100), (0,plt.ylim())]]\n",
    "\n",
    "\n",
    "lines = [[(plt.xlim()[1]-790, plt.ylim()[1]-40), (plt.xlim()[1]-550, plt.ylim()[1]-40)],\n",
    "         [(plt.xlim()[1]-790, plt.ylim()[1]-200), (plt.xlim()[1]-550, plt.ylim()[1]-200)],\n",
    "         [(plt.xlim()[1]-790, plt.ylim()[1]-280), (plt.xlim()[1]-550, plt.ylim()[1]-280)],\n",
    "         [(plt.xlim()[1]-790, plt.ylim()[1]-360), (plt.xlim()[1]-550, plt.ylim()[1]-360)],\n",
    "         [(plt.xlim()[1]-790, plt.ylim()[1]-120), (plt.xlim()[1]-550, plt.ylim()[1]-120)]]\n",
    "\n",
    "c = np.array(['red',\n",
    "              'orange',\n",
    "              'blue',\n",
    "              'black', \n",
    "              'purple'])\n",
    "\n",
    "\n",
    "# connections\n",
    "ax.text(x=plt.xlim()[1]-520, y=plt.ylim()[1]-200, s='Well-studied Connections', color='black', verticalalignment='center', fontsize='small')\n",
    "ax.text(x=plt.xlim()[1]-520, y=plt.ylim()[1]-280, s='Understudied Connections', color='black', verticalalignment='center', fontsize='small')\n",
    "ax.text(x=plt.xlim()[1]-520, y=plt.ylim()[1]-360, s='Supercluster Connections', color='black', verticalalignment='center', fontsize='small')\n",
    "\n",
    "# drug targets\n",
    "ax.text(x=plt.xlim()[1]-520, y=plt.ylim()[1]-40, s='Subcluster Drug Targets', color='black', verticalalignment='center', fontsize='small')\n",
    "ax.text(x=plt.xlim()[1]-520, y=plt.ylim()[1]-120, s='Collateral Drug Targets', color='black', verticalalignment='center', fontsize='small')\n",
    "\n",
    "lc = mc.LineCollection(lines, colors=c, linewidths=4)\n",
    "#fig, ax = pl.subplots()\n",
    "ax.add_collection(lc)\n",
    "\n",
    "style=\"Simple,tail_width=1,head_width=7,head_length=12\"\n",
    "kw = dict(arrowstyle=style, color=\"gray\")\n",
    "\n",
    "arrow1 = patches.FancyArrowPatch((-900,plt.ylim()[0]+540), (-900,plt.ylim()[1]-600), connectionstyle=\"arc3,rad=-.75\", **kw)\n",
    "arrow2 = patches.FancyArrowPatch((900,plt.ylim()[0]+540), (900,plt.ylim()[1]-600), connectionstyle=\"arc3,rad=.75\", **kw)\n",
    "\n",
    "ax.text(x=0, y=plt.ylim()[1]- 250, s='Kinome', color='black', horizontalalignment='center', verticalalignment='center', fontsize='medium', bbox=dict(facecolor='white', edgecolor='white'))\n",
    "ax.text(x=0, y=plt.ylim()[0]+ 80, s='Subcluster', color='black', horizontalalignment='center', verticalalignment='center', fontsize='medium', bbox=dict(facecolor='white',edgecolor='white'))\n",
    "ax.text(x=plt.xlim()[0]-150, y=0, s='Supercluster', color='black', horizontalalignment='center', verticalalignment='center', fontsize='medium', bbox=dict(facecolor='white',edgecolor='white'))\n",
    "ax.text(x=plt.xlim()[1], y=0, s='Drugs', color='black', horizontalalignment='center', verticalalignment='center', fontsize='medium', bbox=dict(facecolor='white',edgecolor='white'))\n",
    "\n",
    "# arrow texts\n",
    "ax.text(x=-1000, y=plt.ylim()[0]+600, s='Connectivity', color='black', horizontalalignment='right', verticalalignment='center', fontsize='small')\n",
    "ax.text(x=1000, y=plt.ylim()[0]+600, s='Drug Selectivity', color='black', verticalalignment='center', fontsize='small')\n",
    "\n",
    "ax.add_patch(arrow1)\n",
    "ax.add_patch(arrow2)\n",
    "\n",
    "ax.text(x=0,y=0, s=' Sub: 2\\nSize: '+str(len(louv[louv.cluster_sub==2])),color='black', horizontalalignment='center', verticalalignment='center', fontsize='small')\n",
    "\n",
    "plt.savefig('../viz/images/png/subc_2.png')\n",
    "plt.savefig('../viz/images/pdf/subc_2.pdf')\n",
    "plt.show()\n"
   ]
  },
  {
   "cell_type": "code",
   "execution_count": null,
   "metadata": {},
   "outputs": [],
   "source": [
    "super_sub_listing = louv.groupby('cluster_super')['cluster_sub'].agg(lambda x: set(x)).to_dict()\n",
    "super_sub_listing"
   ]
  },
  {
   "cell_type": "code",
   "execution_count": null,
   "metadata": {},
   "outputs": [],
   "source": [
    "line_count = 0\n",
    "div_count = 7\n",
    "for sup_ in super_sub_listing:\n",
    "    line_count += 1 + len(super_sub_listing[sup_])//3\n",
    "print(line_count)\n",
    "print(div_count+line_count)"
   ]
  },
  {
   "cell_type": "code",
   "execution_count": null,
   "metadata": {
    "scrolled": true
   },
   "outputs": [],
   "source": [
    "sub_size_mapper = louv.groupby('cluster_sub').count()['names'].to_dict()\n",
    "sub_size_mapper"
   ]
  },
  {
   "cell_type": "code",
   "execution_count": null,
   "metadata": {
    "scrolled": false
   },
   "outputs": [],
   "source": [
    "fig, axes = plt.subplots(ncols=3,nrows=19, figsize=(15,95))\n",
    "\n",
    "row_tracker = 0\n",
    "column_tracker = 0\n",
    "\n",
    "for sup_ in super_sub_listing.keys():\n",
    "    print('Super: ', sup_)\n",
    "    for sub_ in super_sub_listing[sup_]:\n",
    "        print('Sub: ', sub_)\n",
    "        if(column_tracker > 3 and column_tracker % 3 == 0):\n",
    "            row_tracker +=1\n",
    "        ax = axes[row_tracker][column_tracker%3]\n",
    "        ax.clear()\n",
    "        \n",
    "        plot_sub_super_hiveplot(sub_clust_no=sub_, super_clust_no=sup_, fig=fig, kinase_family_data=kinase_family_data, ax=ax)\n",
    "        ax.text(x=-90,y=-50, s='Sub '+str(sub_)+'\\nN: '+str(sub_size_mapper[sub_]),color='black',fontsize='xx-small')\n",
    "        \n",
    "        column_tracker+=1\n",
    "        \n",
    "    while(column_tracker % 3 != 0):\n",
    "        print('Blanking: ', row_tracker, column_tracker)\n",
    "        axes[row_tracker][column_tracker%3].axis('off')\n",
    "        column_tracker += 1\n",
    "    \n",
    "    column_tracker = 0        \n",
    "    \n",
    "    # blank the next row\n",
    "    for i in range(3):\n",
    "        axes[row_tracker+1][i].axis('off')\n",
    "    \n",
    "    #skip the blank row\n",
    "    row_tracker += 2\n",
    "        \n",
    "\n",
    "#h.draw()\n",
    "plt.savefig('../viz/images/pdf/cluster_hive_panel.pdf')"
   ]
  },
  {
   "cell_type": "markdown",
   "metadata": {},
   "source": [
    "### Multiple pages"
   ]
  },
  {
   "cell_type": "code",
   "execution_count": null,
   "metadata": {},
   "outputs": [],
   "source": [
    "from matplotlib.backends.backend_pdf import PdfPages\n",
    "\n",
    "\n",
    "with PdfPages('multipage_pdf.pdf') as pdf:\n",
    "    fig, axes = plt.subplots(ncols=3,nrows=6, figsize=(16,28))\n",
    "    \n",
    "    sup_grouping = [[1,2,3], [4,5], [6], [7,8,9]]\n",
    "    \n",
    "    \n",
    "    \n",
    "    for group in sup_grouping:\n",
    "        row_tracker = 0\n",
    "        column_tracker = 0\n",
    "\n",
    "        for sup_ in group:\n",
    "            print('Super: ', sup_)\n",
    "            for sub_ in super_sub_listing[sup_]:\n",
    "                print('Sub: ', sub_)\n",
    "                if(column_tracker > 3 and column_tracker % 3 == 0):\n",
    "                    row_tracker +=1\n",
    "                ax = axes[row_tracker][column_tracker%3]\n",
    "                ax.clear()\n",
    "\n",
    "                plot_sub_super_hiveplot(sub_clust_no=sub_, super_clust_no=sup_, fig=fig, kinase_family_data=kinase_family_data, ax=ax)\n",
    "                ax.text(x=-90,y=-50, s='Sub '+str(sub_)+'\\nN: '+str(sub_size_mapper[sub_]),color='black',fontsize='xx-small')\n",
    "\n",
    "                column_tracker+=1\n",
    "\n",
    "            while(column_tracker % 3 != 0):\n",
    "                print('Blanking: ', row_tracker, column_tracker)\n",
    "                axes[row_tracker][column_tracker%3].axis('off')\n",
    "                column_tracker += 1\n",
    "\n",
    "            column_tracker = 0        \n",
    "\n",
    "            # blank the next row\n",
    "            for i in range(3):\n",
    "                axes[row_tracker+1][i].axis('off')\n",
    "\n",
    "            #skip the blank row\n",
    "            row_tracker += 2\n",
    "        \n",
    "\n",
    "#h.draw()\n",
    "plt.savefig('../viz/images/pdf/multipage_cluster_hive_panel.pdf')"
   ]
  }
 ],
 "metadata": {
  "kernelspec": {
   "display_name": "Python [default]",
   "language": "python",
   "name": "python3"
  },
  "language_info": {
   "codemirror_mode": {
    "name": "ipython",
    "version": 3
   },
   "file_extension": ".py",
   "mimetype": "text/x-python",
   "name": "python",
   "nbconvert_exporter": "python",
   "pygments_lexer": "ipython3",
   "version": "3.6.8"
  }
 },
 "nbformat": 4,
 "nbformat_minor": 2
}
