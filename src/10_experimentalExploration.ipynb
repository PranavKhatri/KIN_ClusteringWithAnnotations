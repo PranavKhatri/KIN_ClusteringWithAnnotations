{
 "cells": [
  {
   "cell_type": "code",
   "execution_count": 1,
   "metadata": {},
   "outputs": [],
   "source": [
    "import pandas as pd\n",
    "import numpy as np\n",
    "\n",
    "import json\n",
    "import functools as ft\n",
    "import itertools as it\n",
    "from copy import copy\n",
    "\n",
    "%matplotlib inline\n",
    "import matplotlib.pyplot as plt"
   ]
  },
  {
   "cell_type": "code",
   "execution_count": 11,
   "metadata": {},
   "outputs": [
    {
     "data": {
      "text/html": [
       "<div>\n",
       "<style scoped>\n",
       "    .dataframe tbody tr th:only-of-type {\n",
       "        vertical-align: middle;\n",
       "    }\n",
       "\n",
       "    .dataframe tbody tr th {\n",
       "        vertical-align: top;\n",
       "    }\n",
       "\n",
       "    .dataframe thead th {\n",
       "        text-align: right;\n",
       "    }\n",
       "</style>\n",
       "<table border=\"1\" class=\"dataframe\">\n",
       "  <thead>\n",
       "    <tr style=\"text-align: right;\">\n",
       "      <th></th>\n",
       "      <th>cluster_super</th>\n",
       "      <th>cluster_sub</th>\n",
       "    </tr>\n",
       "    <tr>\n",
       "      <th>names</th>\n",
       "      <th></th>\n",
       "      <th></th>\n",
       "    </tr>\n",
       "  </thead>\n",
       "  <tbody>\n",
       "    <tr>\n",
       "      <th>MST1R</th>\n",
       "      <td>3</td>\n",
       "      <td>11</td>\n",
       "    </tr>\n",
       "    <tr>\n",
       "      <th>YES1</th>\n",
       "      <td>3</td>\n",
       "      <td>11</td>\n",
       "    </tr>\n",
       "    <tr>\n",
       "      <th>TYRO3</th>\n",
       "      <td>3</td>\n",
       "      <td>11</td>\n",
       "    </tr>\n",
       "    <tr>\n",
       "      <th>FGR</th>\n",
       "      <td>3</td>\n",
       "      <td>11</td>\n",
       "    </tr>\n",
       "    <tr>\n",
       "      <th>SRC</th>\n",
       "      <td>3</td>\n",
       "      <td>11</td>\n",
       "    </tr>\n",
       "  </tbody>\n",
       "</table>\n",
       "</div>"
      ],
      "text/plain": [
       "       cluster_super  cluster_sub\n",
       "names                            \n",
       "MST1R              3           11\n",
       "YES1               3           11\n",
       "TYRO3              3           11\n",
       "FGR                3           11\n",
       "SRC                3           11"
      ]
     },
     "execution_count": 11,
     "metadata": {},
     "output_type": "execute_result"
    }
   ],
   "source": [
    "louv = pd.read_csv('../results/weighted/louvain_clusters.txt', index_col=0, header=0, sep='\\t')\n",
    "louv.columns = ['cluster_super']\n",
    "louv = louv.merge(pd.read_csv('../results/weighted/louvain_small_clusters.txt', index_col=0, header=0, sep='\\t'), left_index=True, right_index=True)\n",
    "louv.columns = ['cluster_super', 'cluster_sub']\n",
    "louv.head()"
   ]
  },
  {
   "cell_type": "code",
   "execution_count": 21,
   "metadata": {},
   "outputs": [
    {
     "data": {
      "text/plain": [
       "('ENST00000456328', 'DDX11L1')"
      ]
     },
     "execution_count": 21,
     "metadata": {},
     "output_type": "execute_result"
    }
   ],
   "source": [
    "enst_to_hgnc = pd.read_csv('../data/ref/ensdb.hsapiens.v86.mapping.csv', index_col=0)['name'].to_dict()\n",
    "next(iter(enst_to_hgnc.items()))"
   ]
  },
  {
   "cell_type": "code",
   "execution_count": 61,
   "metadata": {},
   "outputs": [],
   "source": [
    "salmon_dir = '../data/exper/salmon_alignment/'\n",
    "quant_filename = '/quant.sf'\n",
    "\n",
    "trametinib_replicate_folders = {'rep_1':'SUM159_100nM_trametinib_24h_replicate1.fastq.gz', \n",
    "                            'rep_2':'SUM159_100nM_trametinib_24h_replicate2.fastq.gz',\n",
    "                            'rep_3':'SUM159_100nM_trametinib_24h_replicate3.fastq.gz'}\n",
    "\n",
    "dmso_replicate_folders = {'rep_1':'SUM159_DMSO_24h_replicate1.fastq.gz',\n",
    "                          'rep_2':'SUM159_DMSO_24h_replicate2.fastq.gz',\n",
    "                          'rep_3':'SUM159_DMSO_24h_replicate3.fastq.gz'}\n",
    "\n",
    "trametinib_data = {}\n",
    "dmso_data = {}"
   ]
  },
  {
   "cell_type": "code",
   "execution_count": 64,
   "metadata": {},
   "outputs": [],
   "source": [
    "# read in trametinib data\n",
    "for rep in trametinib_replicate_folders.keys():\n",
    "    # read in quant sf file for the replicate\n",
    "    local_dat = pd.read_csv(salmon_dir + trametinib_replicate_folders[rep] + quant_filename, sep='\\t')\n",
    "    \n",
    "    # map to hgnc\n",
    "    local_dat['hgnc'] = local_dat['Name'].apply(lambda x: enst_to_hgnc[x.split('.')[0]] if x.split('.')[0] in enst_to_hgnc.keys() else None)\n",
    "    \n",
    "    local_dat = local_dat.groupby('hgnc').agg({'Length':np.sum, 'EffectiveLength':np.sum, 'TPM':np.sum, 'NumReads':np.sum})\n",
    "    \n",
    "    trametinib_data[rep] = copy(local_dat)    \n",
    "    \n",
    "    \n",
    "# read in dmso data\n",
    "for rep in dmso_replicate_folders.keys():\n",
    "    # read in quant sf file for the replicate\n",
    "    local_dat = pd.read_csv(salmon_dir + dmso_replicate_folders[rep] + quant_filename, sep='\\t')\n",
    "    \n",
    "    # map to hgnc\n",
    "    local_dat['hgnc'] = local_dat['Name'].apply(lambda x: enst_to_hgnc[x.split('.')[0]] if x.split('.')[0] in enst_to_hgnc.keys() else None)\n",
    "    \n",
    "    local_dat = local_dat.groupby('hgnc').agg({'Length':np.sum, 'EffectiveLength':np.sum, 'TPM':np.sum, 'NumReads':np.sum})\n",
    "    \n",
    "    dmso_data[rep] = copy(local_dat)"
   ]
  },
  {
   "cell_type": "code",
   "execution_count": 70,
   "metadata": {},
   "outputs": [],
   "source": [
    "trametinib_tpm = (trametinib_data['rep_1'] + trametinib_data['rep_2'] + trametinib_data['rep_3'])['TPM']/3\n",
    "dmso_tpm = (dmso_data['rep_1'] + dmso_data['rep_2'] + dmso_data['rep_3'])['TPM']/3"
   ]
  },
  {
   "cell_type": "code",
   "execution_count": 73,
   "metadata": {},
   "outputs": [
    {
     "name": "stdout",
     "output_type": "stream",
     "text": [
      "Number of missing kinases: 5\n"
     ]
    },
    {
     "data": {
      "text/html": [
       "<div>\n",
       "<style scoped>\n",
       "    .dataframe tbody tr th:only-of-type {\n",
       "        vertical-align: middle;\n",
       "    }\n",
       "\n",
       "    .dataframe tbody tr th {\n",
       "        vertical-align: top;\n",
       "    }\n",
       "\n",
       "    .dataframe thead th {\n",
       "        text-align: right;\n",
       "    }\n",
       "</style>\n",
       "<table border=\"1\" class=\"dataframe\">\n",
       "  <thead>\n",
       "    <tr style=\"text-align: right;\">\n",
       "      <th></th>\n",
       "      <th>cluster_super</th>\n",
       "      <th>cluster_sub</th>\n",
       "      <th>fold_change</th>\n",
       "      <th>TPM</th>\n",
       "    </tr>\n",
       "    <tr>\n",
       "      <th>names</th>\n",
       "      <th></th>\n",
       "      <th></th>\n",
       "      <th></th>\n",
       "      <th></th>\n",
       "    </tr>\n",
       "  </thead>\n",
       "  <tbody>\n",
       "    <tr>\n",
       "      <th>MST1R</th>\n",
       "      <td>3</td>\n",
       "      <td>11</td>\n",
       "      <td>0.493</td>\n",
       "      <td>0.311303</td>\n",
       "    </tr>\n",
       "    <tr>\n",
       "      <th>YES1</th>\n",
       "      <td>3</td>\n",
       "      <td>11</td>\n",
       "      <td>-0.210</td>\n",
       "      <td>17.977394</td>\n",
       "    </tr>\n",
       "    <tr>\n",
       "      <th>TYRO3</th>\n",
       "      <td>3</td>\n",
       "      <td>11</td>\n",
       "      <td>0.184</td>\n",
       "      <td>41.031141</td>\n",
       "    </tr>\n",
       "    <tr>\n",
       "      <th>FGR</th>\n",
       "      <td>3</td>\n",
       "      <td>11</td>\n",
       "      <td>0.000</td>\n",
       "      <td>0.412264</td>\n",
       "    </tr>\n",
       "    <tr>\n",
       "      <th>SRC</th>\n",
       "      <td>3</td>\n",
       "      <td>11</td>\n",
       "      <td>0.463</td>\n",
       "      <td>17.007783</td>\n",
       "    </tr>\n",
       "  </tbody>\n",
       "</table>\n",
       "</div>"
      ],
      "text/plain": [
       "       cluster_super  cluster_sub  fold_change        TPM\n",
       "names                                                    \n",
       "MST1R              3           11        0.493   0.311303\n",
       "YES1               3           11       -0.210  17.977394\n",
       "TYRO3              3           11        0.184  41.031141\n",
       "FGR                3           11        0.000   0.412264\n",
       "SRC                3           11        0.463  17.007783"
      ]
     },
     "execution_count": 73,
     "metadata": {},
     "output_type": "execute_result"
    }
   ],
   "source": [
    "louv_trametinib = copy(louv.merge(trametinib_tpm, how='left', left_index=True, right_index=True))\n",
    "print('Number of missing kinases:', np.sum(np.isnan(louv_trametinib.TPM)))\n",
    "louv_trametinib.head()"
   ]
  },
  {
   "cell_type": "code",
   "execution_count": 74,
   "metadata": {},
   "outputs": [
    {
     "name": "stdout",
     "output_type": "stream",
     "text": [
      "Number of missing kinases: 5\n"
     ]
    },
    {
     "data": {
      "text/html": [
       "<div>\n",
       "<style scoped>\n",
       "    .dataframe tbody tr th:only-of-type {\n",
       "        vertical-align: middle;\n",
       "    }\n",
       "\n",
       "    .dataframe tbody tr th {\n",
       "        vertical-align: top;\n",
       "    }\n",
       "\n",
       "    .dataframe thead th {\n",
       "        text-align: right;\n",
       "    }\n",
       "</style>\n",
       "<table border=\"1\" class=\"dataframe\">\n",
       "  <thead>\n",
       "    <tr style=\"text-align: right;\">\n",
       "      <th></th>\n",
       "      <th>cluster_super</th>\n",
       "      <th>cluster_sub</th>\n",
       "      <th>fold_change</th>\n",
       "      <th>TPM</th>\n",
       "    </tr>\n",
       "    <tr>\n",
       "      <th>names</th>\n",
       "      <th></th>\n",
       "      <th></th>\n",
       "      <th></th>\n",
       "      <th></th>\n",
       "    </tr>\n",
       "  </thead>\n",
       "  <tbody>\n",
       "    <tr>\n",
       "      <th>MST1R</th>\n",
       "      <td>3</td>\n",
       "      <td>11</td>\n",
       "      <td>0.493</td>\n",
       "      <td>0.265201</td>\n",
       "    </tr>\n",
       "    <tr>\n",
       "      <th>YES1</th>\n",
       "      <td>3</td>\n",
       "      <td>11</td>\n",
       "      <td>-0.210</td>\n",
       "      <td>23.820136</td>\n",
       "    </tr>\n",
       "    <tr>\n",
       "      <th>TYRO3</th>\n",
       "      <td>3</td>\n",
       "      <td>11</td>\n",
       "      <td>0.184</td>\n",
       "      <td>24.760104</td>\n",
       "    </tr>\n",
       "    <tr>\n",
       "      <th>FGR</th>\n",
       "      <td>3</td>\n",
       "      <td>11</td>\n",
       "      <td>0.000</td>\n",
       "      <td>0.010444</td>\n",
       "    </tr>\n",
       "    <tr>\n",
       "      <th>SRC</th>\n",
       "      <td>3</td>\n",
       "      <td>11</td>\n",
       "      <td>0.463</td>\n",
       "      <td>11.261300</td>\n",
       "    </tr>\n",
       "  </tbody>\n",
       "</table>\n",
       "</div>"
      ],
      "text/plain": [
       "       cluster_super  cluster_sub  fold_change        TPM\n",
       "names                                                    \n",
       "MST1R              3           11        0.493   0.265201\n",
       "YES1               3           11       -0.210  23.820136\n",
       "TYRO3              3           11        0.184  24.760104\n",
       "FGR                3           11        0.000   0.010444\n",
       "SRC                3           11        0.463  11.261300"
      ]
     },
     "execution_count": 74,
     "metadata": {},
     "output_type": "execute_result"
    }
   ],
   "source": [
    "from copy import copy\n",
    "louv_dmso = copy(louv.merge(dmso_tpm, how='left', left_index=True, right_index=True))\n",
    "print('Number of missing kinases:', np.sum(np.isnan(louv_dmso.TPM)))\n",
    "louv_dmso.head()"
   ]
  },
  {
   "cell_type": "code",
   "execution_count": 75,
   "metadata": {},
   "outputs": [
    {
     "data": {
      "text/html": [
       "<div>\n",
       "<style scoped>\n",
       "    .dataframe tbody tr th:only-of-type {\n",
       "        vertical-align: middle;\n",
       "    }\n",
       "\n",
       "    .dataframe tbody tr th {\n",
       "        vertical-align: top;\n",
       "    }\n",
       "\n",
       "    .dataframe thead th {\n",
       "        text-align: right;\n",
       "    }\n",
       "</style>\n",
       "<table border=\"1\" class=\"dataframe\">\n",
       "  <thead>\n",
       "    <tr style=\"text-align: right;\">\n",
       "      <th></th>\n",
       "      <th>cluster_super</th>\n",
       "      <th>cluster_sub</th>\n",
       "      <th>fold_change</th>\n",
       "    </tr>\n",
       "    <tr>\n",
       "      <th>names</th>\n",
       "      <th></th>\n",
       "      <th></th>\n",
       "      <th></th>\n",
       "    </tr>\n",
       "  </thead>\n",
       "  <tbody>\n",
       "    <tr>\n",
       "      <th>MST1R</th>\n",
       "      <td>3</td>\n",
       "      <td>11</td>\n",
       "      <td>0.231</td>\n",
       "    </tr>\n",
       "    <tr>\n",
       "      <th>YES1</th>\n",
       "      <td>3</td>\n",
       "      <td>11</td>\n",
       "      <td>-0.406</td>\n",
       "    </tr>\n",
       "    <tr>\n",
       "      <th>TYRO3</th>\n",
       "      <td>3</td>\n",
       "      <td>11</td>\n",
       "      <td>0.729</td>\n",
       "    </tr>\n",
       "    <tr>\n",
       "      <th>FGR</th>\n",
       "      <td>3</td>\n",
       "      <td>11</td>\n",
       "      <td>5.303</td>\n",
       "    </tr>\n",
       "    <tr>\n",
       "      <th>SRC</th>\n",
       "      <td>3</td>\n",
       "      <td>11</td>\n",
       "      <td>0.595</td>\n",
       "    </tr>\n",
       "  </tbody>\n",
       "</table>\n",
       "</div>"
      ],
      "text/plain": [
       "       cluster_super  cluster_sub  fold_change\n",
       "names                                         \n",
       "MST1R              3           11        0.231\n",
       "YES1               3           11       -0.406\n",
       "TYRO3              3           11        0.729\n",
       "FGR                3           11        5.303\n",
       "SRC                3           11        0.595"
      ]
     },
     "execution_count": 75,
     "metadata": {},
     "output_type": "execute_result"
    }
   ],
   "source": [
    "fold_change = np.round(np.log2(list(map(lambda x: x[0]/x[1] if x[0] != 0 and x[1] != 0 else 1 if x[0] is not np.nan and x[1] is not np.nan else np.nan, zip(louv_trametinib.TPM, louv_dmso.TPM)))), 3)\n",
    "louv['fold_change'] = fold_change\n",
    "louv.head()"
   ]
  },
  {
   "cell_type": "code",
   "execution_count": 76,
   "metadata": {},
   "outputs": [
    {
     "data": {
      "text/plain": [
       "names\n",
       "MAP3K20   NaN\n",
       "SGK196    NaN\n",
       "HASPIN    NaN\n",
       "MAP3K21   NaN\n",
       "PRAG1     NaN\n",
       "Name: fold_change, dtype: float64"
      ]
     },
     "execution_count": 76,
     "metadata": {},
     "output_type": "execute_result"
    }
   ],
   "source": [
    "louv.fold_change[louv.fold_change.isna()]"
   ]
  },
  {
   "cell_type": "code",
   "execution_count": 77,
   "metadata": {},
   "outputs": [],
   "source": [
    "louv_fold = louv[louv.columns[-1:]]\n",
    "louv_fold.to_csv('../viz/js/circle_pack_viz/dist/viz_fold.csv')"
   ]
  },
  {
   "cell_type": "code",
   "execution_count": 79,
   "metadata": {},
   "outputs": [
    {
     "name": "stdout",
     "output_type": "stream",
     "text": [
      "-4.293 6.19\n"
     ]
    }
   ],
   "source": [
    "print(min(louv.fold_change) ,max(louv.fold_change))"
   ]
  },
  {
   "cell_type": "code",
   "execution_count": 78,
   "metadata": {},
   "outputs": [
    {
     "name": "stderr",
     "output_type": "stream",
     "text": [
      "/anaconda3/lib/python3.6/site-packages/numpy/lib/histograms.py:754: RuntimeWarning: invalid value encountered in greater_equal\n",
      "  keep = (tmp_a >= first_edge)\n",
      "/anaconda3/lib/python3.6/site-packages/numpy/lib/histograms.py:755: RuntimeWarning: invalid value encountered in less_equal\n",
      "  keep &= (tmp_a <= last_edge)\n"
     ]
    },
    {
     "data": {
      "image/png": "[encoded data removed]",
      "text/plain": [
       "<Figure size 432x288 with 1 Axes>"
      ]
     },
     "metadata": {},
     "output_type": "display_data"
    }
   ],
   "source": [
    "plt.hist(list(filter(lambda x: x is not np.nan, louv.fold_change)))\n",
    "plt.show()"
   ]
  }
 ],
 "metadata": {
  "kernelspec": {
   "display_name": "Python [conda env:anaconda3]",
   "language": "python",
   "name": "conda-env-anaconda3-py"
  },
  "language_info": {
   "codemirror_mode": {
    "name": "ipython",
    "version": 3
   },
   "file_extension": ".py",
   "mimetype": "text/x-python",
   "name": "python",
   "nbconvert_exporter": "python",
   "pygments_lexer": "ipython3",
   "version": "3.6.8"
  }
 },
 "nbformat": 4,
 "nbformat_minor": 2
}
